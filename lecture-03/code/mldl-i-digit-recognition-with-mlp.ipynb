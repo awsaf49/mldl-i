{
 "cells": [
  {
   "cell_type": "markdown",
   "id": "ce96c678",
   "metadata": {
    "_cell_guid": "b1076dfc-b9ad-4769-8c92-a6c4dae69d19",
    "_uuid": "8f2839f25d086af736a60e9eeb907d3b93b6e0e5",
    "papermill": {
     "duration": 0.01019,
     "end_time": "2023-06-21T22:33:34.440542",
     "exception": false,
     "start_time": "2023-06-21T22:33:34.430352",
     "status": "completed"
    },
    "tags": []
   },
   "source": [
    "# Import Libraries"
   ]
  },
  {
   "cell_type": "code",
   "execution_count": 1,
   "id": "b810331e",
   "metadata": {
    "_kg_hide-output": true,
    "execution": {
     "iopub.execute_input": "2023-06-21T22:33:34.462048Z",
     "iopub.status.busy": "2023-06-21T22:33:34.460875Z",
     "iopub.status.idle": "2023-06-21T22:33:44.390469Z",
     "shell.execute_reply": "2023-06-21T22:33:44.389514Z"
    },
    "papermill": {
     "duration": 9.942699,
     "end_time": "2023-06-21T22:33:44.392945",
     "exception": false,
     "start_time": "2023-06-21T22:33:34.450246",
     "status": "completed"
    },
    "tags": []
   },
   "outputs": [
    {
     "name": "stderr",
     "output_type": "stream",
     "text": [
      "/opt/conda/lib/python3.10/site-packages/tensorflow_io/python/ops/__init__.py:98: UserWarning: unable to load libtensorflow_io_plugins.so: unable to open file: libtensorflow_io_plugins.so, from paths: ['/opt/conda/lib/python3.10/site-packages/tensorflow_io/python/ops/libtensorflow_io_plugins.so']\n",
      "caused by: ['/opt/conda/lib/python3.10/site-packages/tensorflow_io/python/ops/libtensorflow_io_plugins.so: undefined symbol: _ZN3tsl6StatusC1EN10tensorflow5error4CodeESt17basic_string_viewIcSt11char_traitsIcEENS_14SourceLocationE']\n",
      "  warnings.warn(f\"unable to load libtensorflow_io_plugins.so: {e}\")\n",
      "/opt/conda/lib/python3.10/site-packages/tensorflow_io/python/ops/__init__.py:104: UserWarning: file system plugins are not loaded: unable to open file: libtensorflow_io.so, from paths: ['/opt/conda/lib/python3.10/site-packages/tensorflow_io/python/ops/libtensorflow_io.so']\n",
      "caused by: ['/opt/conda/lib/python3.10/site-packages/tensorflow_io/python/ops/libtensorflow_io.so: undefined symbol: _ZTVN10tensorflow13GcsFileSystemE']\n",
      "  warnings.warn(f\"file system plugins are not loaded: {e}\")\n"
     ]
    }
   ],
   "source": [
    "# For metadata/feature processing\n",
    "import numpy as np\n",
    "import pandas as pd\n",
    "from glob import glob\n",
    "from tqdm.notebook import tqdm\n",
    "\n",
    "# For neural network\n",
    "import tensorflow as tf\n",
    "\n",
    "# For Accuracy metric\n",
    "from sklearn.metrics import accuracy_score\n",
    "from sklearn.metrics import classification_report\n",
    "\n",
    "# For image\n",
    "import cv2\n",
    "import matplotlib.pyplot as plt"
   ]
  },
  {
   "cell_type": "markdown",
   "id": "95ddc865",
   "metadata": {
    "papermill": {
     "duration": 0.009204,
     "end_time": "2023-06-21T22:33:44.411843",
     "exception": false,
     "start_time": "2023-06-21T22:33:44.402639",
     "status": "completed"
    },
    "tags": []
   },
   "source": [
    "# Meta Data\n",
    "Not all dataset comes with prepared **metadata** (csv file containing file/image/feature/label info). Thus we need to learn how to prepare one for a custom dataset."
   ]
  },
  {
   "cell_type": "markdown",
   "id": "e6ad4f7a",
   "metadata": {
    "papermill": {
     "duration": 0.009207,
     "end_time": "2023-06-21T22:33:44.430450",
     "exception": false,
     "start_time": "2023-06-21T22:33:44.421243",
     "status": "completed"
    },
    "tags": []
   },
   "source": [
    "## Get Image Paths\n",
    "First we'll use `glob` to access the file paths of each image to link them to their labels and data split.\n",
    "\n"
   ]
  },
  {
   "cell_type": "code",
   "execution_count": 2,
   "id": "67906867",
   "metadata": {
    "execution": {
     "iopub.execute_input": "2023-06-21T22:33:44.452304Z",
     "iopub.status.busy": "2023-06-21T22:33:44.450370Z",
     "iopub.status.idle": "2023-06-21T22:33:47.857277Z",
     "shell.execute_reply": "2023-06-21T22:33:47.856243Z"
    },
    "papermill": {
     "duration": 3.419687,
     "end_time": "2023-06-21T22:33:47.859569",
     "exception": false,
     "start_time": "2023-06-21T22:33:44.439882",
     "status": "completed"
    },
    "tags": []
   },
   "outputs": [
    {
     "name": "stdout",
     "output_type": "stream",
     "text": [
      "Num Train: 60000\n",
      "Num Test: 10000\n"
     ]
    }
   ],
   "source": [
    "train_paths = glob('/kaggle/input/mnist-dataset/mnist_png/training/*/*png')\n",
    "print(f\"Num Train: {len(train_paths)}\")\n",
    "\n",
    "test_paths = glob('/kaggle/input/mnist-dataset/mnist_png/testing/*/*png')\n",
    "print(f\"Num Test: {len(test_paths)}\")"
   ]
  },
  {
   "cell_type": "markdown",
   "id": "811f3ddd",
   "metadata": {
    "papermill": {
     "duration": 0.009384,
     "end_time": "2023-06-21T22:33:47.879283",
     "exception": false,
     "start_time": "2023-06-21T22:33:47.869899",
     "status": "completed"
    },
    "tags": []
   },
   "source": [
    "## Brain Storm 🧠\n",
    "Which image paths following code will load?\n",
    "```py\n",
    " glob('/kaggle/input/mnist-dataset/mnist_png/*/0/*png')\n",
    "```"
   ]
  },
  {
   "cell_type": "markdown",
   "id": "074d1f4e",
   "metadata": {
    "papermill": {
     "duration": 0.009242,
     "end_time": "2023-06-21T22:33:47.898263",
     "exception": false,
     "start_time": "2023-06-21T22:33:47.889021",
     "status": "completed"
    },
    "tags": []
   },
   "source": [
    "## Build DataFrame (CSV File)"
   ]
  },
  {
   "cell_type": "code",
   "execution_count": 3,
   "id": "26cc54cd",
   "metadata": {
    "execution": {
     "iopub.execute_input": "2023-06-21T22:33:47.918775Z",
     "iopub.status.busy": "2023-06-21T22:33:47.918454Z",
     "iopub.status.idle": "2023-06-21T22:33:47.948218Z",
     "shell.execute_reply": "2023-06-21T22:33:47.947213Z"
    },
    "papermill": {
     "duration": 0.042495,
     "end_time": "2023-06-21T22:33:47.950222",
     "exception": false,
     "start_time": "2023-06-21T22:33:47.907727",
     "status": "completed"
    },
    "tags": []
   },
   "outputs": [
    {
     "name": "stdout",
     "output_type": "stream",
     "text": [
      "Train:\n"
     ]
    },
    {
     "data": {
      "text/html": [
       "<div>\n",
       "<style scoped>\n",
       "    .dataframe tbody tr th:only-of-type {\n",
       "        vertical-align: middle;\n",
       "    }\n",
       "\n",
       "    .dataframe tbody tr th {\n",
       "        vertical-align: top;\n",
       "    }\n",
       "\n",
       "    .dataframe thead th {\n",
       "        text-align: right;\n",
       "    }\n",
       "</style>\n",
       "<table border=\"1\" class=\"dataframe\">\n",
       "  <thead>\n",
       "    <tr style=\"text-align: right;\">\n",
       "      <th></th>\n",
       "      <th>image_path</th>\n",
       "    </tr>\n",
       "  </thead>\n",
       "  <tbody>\n",
       "    <tr>\n",
       "      <th>0</th>\n",
       "      <td>/kaggle/input/mnist-dataset/mnist_png/training...</td>\n",
       "    </tr>\n",
       "    <tr>\n",
       "      <th>1</th>\n",
       "      <td>/kaggle/input/mnist-dataset/mnist_png/training...</td>\n",
       "    </tr>\n",
       "  </tbody>\n",
       "</table>\n",
       "</div>"
      ],
      "text/plain": [
       "                                          image_path\n",
       "0  /kaggle/input/mnist-dataset/mnist_png/training...\n",
       "1  /kaggle/input/mnist-dataset/mnist_png/training..."
      ]
     },
     "metadata": {},
     "output_type": "display_data"
    },
    {
     "name": "stdout",
     "output_type": "stream",
     "text": [
      "Test:\n"
     ]
    },
    {
     "data": {
      "text/html": [
       "<div>\n",
       "<style scoped>\n",
       "    .dataframe tbody tr th:only-of-type {\n",
       "        vertical-align: middle;\n",
       "    }\n",
       "\n",
       "    .dataframe tbody tr th {\n",
       "        vertical-align: top;\n",
       "    }\n",
       "\n",
       "    .dataframe thead th {\n",
       "        text-align: right;\n",
       "    }\n",
       "</style>\n",
       "<table border=\"1\" class=\"dataframe\">\n",
       "  <thead>\n",
       "    <tr style=\"text-align: right;\">\n",
       "      <th></th>\n",
       "      <th>image_path</th>\n",
       "    </tr>\n",
       "  </thead>\n",
       "  <tbody>\n",
       "    <tr>\n",
       "      <th>0</th>\n",
       "      <td>/kaggle/input/mnist-dataset/mnist_png/testing/...</td>\n",
       "    </tr>\n",
       "    <tr>\n",
       "      <th>1</th>\n",
       "      <td>/kaggle/input/mnist-dataset/mnist_png/testing/...</td>\n",
       "    </tr>\n",
       "  </tbody>\n",
       "</table>\n",
       "</div>"
      ],
      "text/plain": [
       "                                          image_path\n",
       "0  /kaggle/input/mnist-dataset/mnist_png/testing/...\n",
       "1  /kaggle/input/mnist-dataset/mnist_png/testing/..."
      ]
     },
     "metadata": {},
     "output_type": "display_data"
    }
   ],
   "source": [
    "print('Train:')\n",
    "train_df = pd.DataFrame(train_paths, columns=['image_path'])\n",
    "display(train_df.head(2))\n",
    "\n",
    "print('Test:')\n",
    "test_df = pd.DataFrame(test_paths, columns=['image_path'])\n",
    "display(test_df.head(2))"
   ]
  },
  {
   "cell_type": "markdown",
   "id": "09d21dd2",
   "metadata": {
    "papermill": {
     "duration": 0.009749,
     "end_time": "2023-06-21T22:33:47.970530",
     "exception": false,
     "start_time": "2023-06-21T22:33:47.960781",
     "status": "completed"
    },
    "tags": []
   },
   "source": [
    "# Sample from Data\n",
    "To reduce time we've down sampled the data. If you are welcome to run on the full dataset. To do so, simply comment out the cell."
   ]
  },
  {
   "cell_type": "code",
   "execution_count": 4,
   "id": "05cd5381",
   "metadata": {
    "execution": {
     "iopub.execute_input": "2023-06-21T22:33:47.992772Z",
     "iopub.status.busy": "2023-06-21T22:33:47.992115Z",
     "iopub.status.idle": "2023-06-21T22:33:48.004477Z",
     "shell.execute_reply": "2023-06-21T22:33:48.003616Z"
    },
    "papermill": {
     "duration": 0.025608,
     "end_time": "2023-06-21T22:33:48.006539",
     "exception": false,
     "start_time": "2023-06-21T22:33:47.980931",
     "status": "completed"
    },
    "tags": []
   },
   "outputs": [],
   "source": [
    "train_df = train_df.sample(10000, random_state=42)\n",
    "test_df = test_df.sample(2000, random_state=42)"
   ]
  },
  {
   "cell_type": "markdown",
   "id": "3870fc37",
   "metadata": {
    "papermill": {
     "duration": 0.009751,
     "end_time": "2023-06-21T22:33:48.026853",
     "exception": false,
     "start_time": "2023-06-21T22:33:48.017102",
     "status": "completed"
    },
    "tags": []
   },
   "source": [
    "# Retreive Metadata\n",
    "In the following cell we'll retreive `train-test` split and `class` infomation from **image path**. \n",
    "\n",
    "> We'll use `.split()` function to divide the string with `/` delimeter to extract necessary information.\n",
    "\n",
    "Example:\n",
    "```python\n",
    "'/kaggle/input/mnist-dataset/mnist_png/testing/3/1020.png'.split('/')\n",
    "```\n",
    "\n",
    "It will produce following output,\n",
    "```python\n",
    "['', 'kaggle', 'input', 'mnist-dataset', 'mnist_png', 'testing', '3', '1020.png']\n",
    "```"
   ]
  },
  {
   "cell_type": "code",
   "execution_count": 5,
   "id": "867edca4",
   "metadata": {
    "execution": {
     "iopub.execute_input": "2023-06-21T22:33:48.048745Z",
     "iopub.status.busy": "2023-06-21T22:33:48.047883Z",
     "iopub.status.idle": "2023-06-21T22:33:48.097667Z",
     "shell.execute_reply": "2023-06-21T22:33:48.096704Z"
    },
    "papermill": {
     "duration": 0.062748,
     "end_time": "2023-06-21T22:33:48.099601",
     "exception": false,
     "start_time": "2023-06-21T22:33:48.036853",
     "status": "completed"
    },
    "tags": []
   },
   "outputs": [
    {
     "data": {
      "text/html": [
       "<div>\n",
       "<style scoped>\n",
       "    .dataframe tbody tr th:only-of-type {\n",
       "        vertical-align: middle;\n",
       "    }\n",
       "\n",
       "    .dataframe tbody tr th {\n",
       "        vertical-align: top;\n",
       "    }\n",
       "\n",
       "    .dataframe thead th {\n",
       "        text-align: right;\n",
       "    }\n",
       "</style>\n",
       "<table border=\"1\" class=\"dataframe\">\n",
       "  <thead>\n",
       "    <tr style=\"text-align: right;\">\n",
       "      <th></th>\n",
       "      <th>image_path</th>\n",
       "      <th>label</th>\n",
       "      <th>split</th>\n",
       "    </tr>\n",
       "  </thead>\n",
       "  <tbody>\n",
       "    <tr>\n",
       "      <th>12628</th>\n",
       "      <td>/kaggle/input/mnist-dataset/mnist_png/training...</td>\n",
       "      <td>5</td>\n",
       "      <td>train</td>\n",
       "    </tr>\n",
       "    <tr>\n",
       "      <th>37730</th>\n",
       "      <td>/kaggle/input/mnist-dataset/mnist_png/training...</td>\n",
       "      <td>1</td>\n",
       "      <td>train</td>\n",
       "    </tr>\n",
       "  </tbody>\n",
       "</table>\n",
       "</div>"
      ],
      "text/plain": [
       "                                              image_path  label  split\n",
       "12628  /kaggle/input/mnist-dataset/mnist_png/training...      5  train\n",
       "37730  /kaggle/input/mnist-dataset/mnist_png/training...      1  train"
      ]
     },
     "metadata": {},
     "output_type": "display_data"
    },
    {
     "data": {
      "text/html": [
       "<div>\n",
       "<style scoped>\n",
       "    .dataframe tbody tr th:only-of-type {\n",
       "        vertical-align: middle;\n",
       "    }\n",
       "\n",
       "    .dataframe tbody tr th {\n",
       "        vertical-align: top;\n",
       "    }\n",
       "\n",
       "    .dataframe thead th {\n",
       "        text-align: right;\n",
       "    }\n",
       "</style>\n",
       "<table border=\"1\" class=\"dataframe\">\n",
       "  <thead>\n",
       "    <tr style=\"text-align: right;\">\n",
       "      <th></th>\n",
       "      <th>image_path</th>\n",
       "      <th>label</th>\n",
       "      <th>split</th>\n",
       "    </tr>\n",
       "  </thead>\n",
       "  <tbody>\n",
       "    <tr>\n",
       "      <th>6252</th>\n",
       "      <td>/kaggle/input/mnist-dataset/mnist_png/testing/...</td>\n",
       "      <td>1</td>\n",
       "      <td>test</td>\n",
       "    </tr>\n",
       "    <tr>\n",
       "      <th>4684</th>\n",
       "      <td>/kaggle/input/mnist-dataset/mnist_png/testing/...</td>\n",
       "      <td>0</td>\n",
       "      <td>test</td>\n",
       "    </tr>\n",
       "  </tbody>\n",
       "</table>\n",
       "</div>"
      ],
      "text/plain": [
       "                                             image_path  label split\n",
       "6252  /kaggle/input/mnist-dataset/mnist_png/testing/...      1  test\n",
       "4684  /kaggle/input/mnist-dataset/mnist_png/testing/...      0  test"
      ]
     },
     "metadata": {},
     "output_type": "display_data"
    }
   ],
   "source": [
    "# Train\n",
    "train_df['label'] = train_df.image_path.map(lambda x: int(x.split('/')[-2])) # extract class\n",
    "train_df['split'] = train_df.image_path.map(lambda x: x.split('/')[-3][:-3]) # extract data split\n",
    "display(train_df.head(2))\n",
    "\n",
    "# Test\n",
    "test_df['label'] = test_df.image_path.map(lambda x: int(x.split('/')[-2]))  # extract class\n",
    "test_df['split'] = test_df.image_path.map(lambda x: x.split('/')[-3][:-3])  # extract data split\n",
    "test_df['split'] = test_df['split'].replace('train', 'test')\n",
    "\n",
    "display(test_df.head(2))"
   ]
  },
  {
   "cell_type": "markdown",
   "id": "8235b6f5",
   "metadata": {
    "papermill": {
     "duration": 0.010182,
     "end_time": "2023-06-21T22:33:48.120610",
     "exception": false,
     "start_time": "2023-06-21T22:33:48.110428",
     "status": "completed"
    },
    "tags": []
   },
   "source": [
    "## Brain Storm 🧠\n",
    "What information will following code extract from image paths?\n",
    "```python\n",
    "train_df['x'] = train_df.image_path.map(lambda x: x.split('/')[-1].split('.')[0])\n",
    "```\n",
    "Supose a image path is,\n",
    "`/kaggle/input/mnist-dataset/mnist_png/training/7/52235.png`"
   ]
  },
  {
   "cell_type": "code",
   "execution_count": 6,
   "id": "996673d5",
   "metadata": {
    "_kg_hide-input": true,
    "_kg_hide-output": true,
    "execution": {
     "iopub.execute_input": "2023-06-21T22:33:48.143692Z",
     "iopub.status.busy": "2023-06-21T22:33:48.142893Z",
     "iopub.status.idle": "2023-06-21T22:33:48.171431Z",
     "shell.execute_reply": "2023-06-21T22:33:48.170307Z"
    },
    "jupyter": {
     "source_hidden": true
    },
    "papermill": {
     "duration": 0.043366,
     "end_time": "2023-06-21T22:33:48.174593",
     "exception": false,
     "start_time": "2023-06-21T22:33:48.131227",
     "status": "completed"
    },
    "tags": []
   },
   "outputs": [
    {
     "data": {
      "text/html": [
       "<div>\n",
       "<style scoped>\n",
       "    .dataframe tbody tr th:only-of-type {\n",
       "        vertical-align: middle;\n",
       "    }\n",
       "\n",
       "    .dataframe tbody tr th {\n",
       "        vertical-align: top;\n",
       "    }\n",
       "\n",
       "    .dataframe thead th {\n",
       "        text-align: right;\n",
       "    }\n",
       "</style>\n",
       "<table border=\"1\" class=\"dataframe\">\n",
       "  <thead>\n",
       "    <tr style=\"text-align: right;\">\n",
       "      <th></th>\n",
       "      <th>image_path</th>\n",
       "      <th>label</th>\n",
       "      <th>split</th>\n",
       "      <th>id</th>\n",
       "    </tr>\n",
       "  </thead>\n",
       "  <tbody>\n",
       "    <tr>\n",
       "      <th>12628</th>\n",
       "      <td>/kaggle/input/mnist-dataset/mnist_png/training...</td>\n",
       "      <td>5</td>\n",
       "      <td>train</td>\n",
       "      <td>30676</td>\n",
       "    </tr>\n",
       "    <tr>\n",
       "      <th>37730</th>\n",
       "      <td>/kaggle/input/mnist-dataset/mnist_png/training...</td>\n",
       "      <td>1</td>\n",
       "      <td>train</td>\n",
       "      <td>46326</td>\n",
       "    </tr>\n",
       "  </tbody>\n",
       "</table>\n",
       "</div>"
      ],
      "text/plain": [
       "                                              image_path  label  split     id\n",
       "12628  /kaggle/input/mnist-dataset/mnist_png/training...      5  train  30676\n",
       "37730  /kaggle/input/mnist-dataset/mnist_png/training...      1  train  46326"
      ]
     },
     "metadata": {},
     "output_type": "display_data"
    },
    {
     "data": {
      "text/html": [
       "<div>\n",
       "<style scoped>\n",
       "    .dataframe tbody tr th:only-of-type {\n",
       "        vertical-align: middle;\n",
       "    }\n",
       "\n",
       "    .dataframe tbody tr th {\n",
       "        vertical-align: top;\n",
       "    }\n",
       "\n",
       "    .dataframe thead th {\n",
       "        text-align: right;\n",
       "    }\n",
       "</style>\n",
       "<table border=\"1\" class=\"dataframe\">\n",
       "  <thead>\n",
       "    <tr style=\"text-align: right;\">\n",
       "      <th></th>\n",
       "      <th>image_path</th>\n",
       "      <th>label</th>\n",
       "      <th>split</th>\n",
       "      <th>id</th>\n",
       "    </tr>\n",
       "  </thead>\n",
       "  <tbody>\n",
       "    <tr>\n",
       "      <th>6252</th>\n",
       "      <td>/kaggle/input/mnist-dataset/mnist_png/testing/...</td>\n",
       "      <td>1</td>\n",
       "      <td>test</td>\n",
       "      <td>6276</td>\n",
       "    </tr>\n",
       "    <tr>\n",
       "      <th>4684</th>\n",
       "      <td>/kaggle/input/mnist-dataset/mnist_png/testing/...</td>\n",
       "      <td>0</td>\n",
       "      <td>test</td>\n",
       "      <td>6798</td>\n",
       "    </tr>\n",
       "  </tbody>\n",
       "</table>\n",
       "</div>"
      ],
      "text/plain": [
       "                                             image_path  label split    id\n",
       "6252  /kaggle/input/mnist-dataset/mnist_png/testing/...      1  test  6276\n",
       "4684  /kaggle/input/mnist-dataset/mnist_png/testing/...      0  test  6798"
      ]
     },
     "metadata": {},
     "output_type": "display_data"
    }
   ],
   "source": [
    "train_df['id'] = train_df.image_path.map(lambda x: x.split('/')[-1].split('.')[0]) # extract id\n",
    "display(train_df.head(2))\n",
    "\n",
    "\n",
    "test_df['id'] = test_df.image_path.map(lambda x: x.split('/')[-1].split('.')[0]) # extract id\n",
    "display(test_df.head(2))"
   ]
  },
  {
   "cell_type": "markdown",
   "id": "52b3d6a8",
   "metadata": {
    "papermill": {
     "duration": 0.010686,
     "end_time": "2023-06-21T22:33:48.196851",
     "exception": false,
     "start_time": "2023-06-21T22:33:48.186165",
     "status": "completed"
    },
    "tags": []
   },
   "source": [
    "# Data Validation\n",
    "\n",
    "Before diving deeper into the analysis, it's crucial to ensure that our metadata – including path and label – aligns accurately with the actual data. Any discrepancies may lead to inaccurate results, undermining the integrity of our findings.\n"
   ]
  },
  {
   "cell_type": "markdown",
   "id": "4e06373c",
   "metadata": {
    "papermill": {
     "duration": 0.010345,
     "end_time": "2023-06-21T22:33:48.217881",
     "exception": false,
     "start_time": "2023-06-21T22:33:48.207536",
     "status": "completed"
    },
    "tags": []
   },
   "source": [
    "## Utility"
   ]
  },
  {
   "cell_type": "code",
   "execution_count": 7,
   "id": "6218fe07",
   "metadata": {
    "execution": {
     "iopub.execute_input": "2023-06-21T22:33:48.240913Z",
     "iopub.status.busy": "2023-06-21T22:33:48.240090Z",
     "iopub.status.idle": "2023-06-21T22:33:48.244742Z",
     "shell.execute_reply": "2023-06-21T22:33:48.243873Z"
    },
    "papermill": {
     "duration": 0.018263,
     "end_time": "2023-06-21T22:33:48.246722",
     "exception": false,
     "start_time": "2023-06-21T22:33:48.228459",
     "status": "completed"
    },
    "tags": []
   },
   "outputs": [],
   "source": [
    "# opencv (cv2) is used for loading image\n",
    "def load_image(path):\n",
    "    img = cv2.imread(path, -1) # `-1` means load image as it is, thus no gray to rgb conversion\n",
    "    return img"
   ]
  },
  {
   "cell_type": "markdown",
   "id": "acbe0bac",
   "metadata": {
    "papermill": {
     "duration": 0.010435,
     "end_time": "2023-06-21T22:33:48.267736",
     "exception": false,
     "start_time": "2023-06-21T22:33:48.257301",
     "status": "completed"
    },
    "tags": []
   },
   "source": [
    "## One Sample"
   ]
  },
  {
   "cell_type": "code",
   "execution_count": 8,
   "id": "e769202c",
   "metadata": {
    "_kg_hide-input": true,
    "execution": {
     "iopub.execute_input": "2023-06-21T22:33:48.290834Z",
     "iopub.status.busy": "2023-06-21T22:33:48.289885Z",
     "iopub.status.idle": "2023-06-21T22:33:48.594185Z",
     "shell.execute_reply": "2023-06-21T22:33:48.593290Z"
    },
    "papermill": {
     "duration": 0.317948,
     "end_time": "2023-06-21T22:33:48.596305",
     "exception": false,
     "start_time": "2023-06-21T22:33:48.278357",
     "status": "completed"
    },
    "tags": []
   },
   "outputs": [
    {
     "name": "stdout",
     "output_type": "stream",
     "text": [
      "## Image Shape: (28, 28)\n",
      "## Class: 5\n",
      "\n"
     ]
    },
    {
     "data": {
      "image/png": "[encoded data removed]",
      "text/plain": [
       "<Figure size 640x480 with 1 Axes>"
      ]
     },
     "metadata": {},
     "output_type": "display_data"
    }
   ],
   "source": [
    "row = train_df.iloc[0]\n",
    "img = load_image(row.image_path)\n",
    "print(f\"## Image Shape: {img.shape}\")\n",
    "print(f\"## Class: {row.label}\\n\")\n",
    "plt.imshow(img);"
   ]
  },
  {
   "cell_type": "markdown",
   "id": "db320c1a",
   "metadata": {
    "papermill": {
     "duration": 0.010738,
     "end_time": "2023-06-21T22:33:48.618323",
     "exception": false,
     "start_time": "2023-06-21T22:33:48.607585",
     "status": "completed"
    },
    "tags": []
   },
   "source": [
    "## Multiple Samples"
   ]
  },
  {
   "cell_type": "code",
   "execution_count": 9,
   "id": "1200e1e5",
   "metadata": {
    "_kg_hide-input": true,
    "execution": {
     "iopub.execute_input": "2023-06-21T22:33:48.642146Z",
     "iopub.status.busy": "2023-06-21T22:33:48.641159Z",
     "iopub.status.idle": "2023-06-21T22:33:53.300613Z",
     "shell.execute_reply": "2023-06-21T22:33:53.299699Z"
    },
    "papermill": {
     "duration": 4.673934,
     "end_time": "2023-06-21T22:33:53.303145",
     "exception": false,
     "start_time": "2023-06-21T22:33:48.629211",
     "status": "completed"
    },
    "tags": []
   },
   "outputs": [
    {
     "data": {
      "image/png": "[encoded data removed]",
      "text/plain": [
       "<Figure size 1600x1600 with 64 Axes>"
      ]
     },
     "metadata": {},
     "output_type": "display_data"
    }
   ],
   "source": [
    "# Define the size of the grid\n",
    "grid_size = 8\n",
    "\n",
    "# Create a figure and axes for the grid of images\n",
    "fig, axes = plt.subplots(grid_size, grid_size, figsize=(grid_size*2, grid_size*2))\n",
    "\n",
    "# Iterate over the images and labels\n",
    "for i in range(grid_size**2):\n",
    "    # Generate random index\n",
    "    img_idx = np.random.randint(0, len(train_df))\n",
    "    row = train_df.iloc[img_idx]\n",
    "    \n",
    "    # Load the image using your preferred method (not implemented here)\n",
    "    img = load_image(row.image_path)\n",
    "\n",
    "    # Determine the row and column indices in the grid\n",
    "    x = i // grid_size\n",
    "    y = i % grid_size\n",
    "\n",
    "    # Display the image in the corresponding grid cell\n",
    "    axes[x, y].imshow(img)\n",
    "    axes[x, y].set_title(str(row.label))\n",
    "    axes[x, y].axis('off')\n",
    "\n",
    "# Adjust the spacing and layout of the subplots\n",
    "plt.tight_layout()\n",
    "\n",
    "# Show the grid of images\n",
    "plt.show()"
   ]
  },
  {
   "cell_type": "markdown",
   "id": "3f06f36a",
   "metadata": {
    "papermill": {
     "duration": 0.01192,
     "end_time": "2023-06-21T22:33:53.327457",
     "exception": false,
     "start_time": "2023-06-21T22:33:53.315537",
     "status": "completed"
    },
    "tags": []
   },
   "source": [
    "# Python Class\n",
    "In Python, a class is a **blueprint or template for creating objects**. It provides a way to define and organize **attributes (variables)** and **behaviors (methods)** that characterize an object of that class. The class acts as a template, and objects created from the class are instances of that class."
   ]
  },
  {
   "cell_type": "markdown",
   "id": "4a5c609c",
   "metadata": {
    "papermill": {
     "duration": 0.011803,
     "end_time": "2023-06-21T22:33:53.351253",
     "exception": false,
     "start_time": "2023-06-21T22:33:53.339450",
     "status": "completed"
    },
    "tags": []
   },
   "source": [
    "## Create Class"
   ]
  },
  {
   "cell_type": "code",
   "execution_count": 10,
   "id": "f57bebbe",
   "metadata": {
    "execution": {
     "iopub.execute_input": "2023-06-21T22:33:53.376693Z",
     "iopub.status.busy": "2023-06-21T22:33:53.376346Z",
     "iopub.status.idle": "2023-06-21T22:33:53.382080Z",
     "shell.execute_reply": "2023-06-21T22:33:53.381120Z"
    },
    "papermill": {
     "duration": 0.020823,
     "end_time": "2023-06-21T22:33:53.384100",
     "exception": false,
     "start_time": "2023-06-21T22:33:53.363277",
     "status": "completed"
    },
    "tags": []
   },
   "outputs": [],
   "source": [
    "class Car:\n",
    "    def __init__(self, make, model, year):\n",
    "        self.make = make\n",
    "        self.model = model\n",
    "        self.year = year\n",
    "\n",
    "    def start_engine(self):\n",
    "        print(\"The car engine is starting.\")\n",
    "\n",
    "    def stop_engine(self):\n",
    "        print(\"The car engine is stopping.\")\n",
    "\n",
    "    def drive(self):\n",
    "        print(\"The car is being driven.\")"
   ]
  },
  {
   "cell_type": "markdown",
   "id": "827cd5b2",
   "metadata": {
    "papermill": {
     "duration": 0.011836,
     "end_time": "2023-06-21T22:33:53.407933",
     "exception": false,
     "start_time": "2023-06-21T22:33:53.396097",
     "status": "completed"
    },
    "tags": []
   },
   "source": [
    "In this example, we have defined a class called \"Car.\" The class has three attributes: \"make,\" \"model,\" and \"year.\" These attributes are initialized in the constructor method `__init__()`.\n",
    "\n",
    "The class also has three methods: `start_engine()`, `stop_engine()`, and `drive()`. These methods define the behavior of a car object. When called, they print out relevant messages."
   ]
  },
  {
   "cell_type": "code",
   "execution_count": 11,
   "id": "32719d46",
   "metadata": {
    "execution": {
     "iopub.execute_input": "2023-06-21T22:33:53.433988Z",
     "iopub.status.busy": "2023-06-21T22:33:53.433196Z",
     "iopub.status.idle": "2023-06-21T22:33:53.439843Z",
     "shell.execute_reply": "2023-06-21T22:33:53.438728Z"
    },
    "papermill": {
     "duration": 0.021744,
     "end_time": "2023-06-21T22:33:53.441838",
     "exception": false,
     "start_time": "2023-06-21T22:33:53.420094",
     "status": "completed"
    },
    "tags": []
   },
   "outputs": [
    {
     "name": "stdout",
     "output_type": "stream",
     "text": [
      "Toyota\n",
      "The car engine is starting.\n",
      "The car is being driven.\n",
      "The car engine is stopping.\n"
     ]
    }
   ],
   "source": [
    "my_car = Car(\"Toyota\", \"Camry\", 2022)\n",
    "print(my_car.make)  # Output: Toyota\n",
    "\n",
    "my_car.start_engine()  # Output: The car engine is starting.\n",
    "my_car.drive()  # Output: The car is being driven.\n",
    "my_car.stop_engine()  # Output: The car engine is stopping."
   ]
  },
  {
   "cell_type": "markdown",
   "id": "36880d1b",
   "metadata": {
    "papermill": {
     "duration": 0.01228,
     "end_time": "2023-06-21T22:33:53.466304",
     "exception": false,
     "start_time": "2023-06-21T22:33:53.454024",
     "status": "completed"
    },
    "tags": []
   },
   "source": [
    "## Inheritance\n",
    "Inheritance allows us to create new classes based on existing ones, enabling code reuse and the extension of functionality. It supports the concept of hierarchical relationships among classes, where a child class inherits attributes and methods from a parent class and can add its own unique characteristics."
   ]
  },
  {
   "cell_type": "code",
   "execution_count": 12,
   "id": "cb81b409",
   "metadata": {
    "execution": {
     "iopub.execute_input": "2023-06-21T22:33:53.492408Z",
     "iopub.status.busy": "2023-06-21T22:33:53.491611Z",
     "iopub.status.idle": "2023-06-21T22:33:53.497614Z",
     "shell.execute_reply": "2023-06-21T22:33:53.496764Z"
    },
    "papermill": {
     "duration": 0.021147,
     "end_time": "2023-06-21T22:33:53.499624",
     "exception": false,
     "start_time": "2023-06-21T22:33:53.478477",
     "status": "completed"
    },
    "tags": []
   },
   "outputs": [],
   "source": [
    "class ElectricCar(Car):\n",
    "    def __init__(self, make, model, year, battery_capacity):\n",
    "        super().__init__(make, model, year)\n",
    "        self.battery_capacity = battery_capacity\n",
    "\n",
    "    def charge_battery(self):\n",
    "        print(\"The electric car battery is charging.\")\n",
    "\n",
    "    # Override the drive() method\n",
    "    def drive(self):\n",
    "        print(\"The electric car is being driven silently.\")\n"
   ]
  },
  {
   "cell_type": "code",
   "execution_count": 13,
   "id": "9d08b1a4",
   "metadata": {
    "execution": {
     "iopub.execute_input": "2023-06-21T22:33:53.525511Z",
     "iopub.status.busy": "2023-06-21T22:33:53.524736Z",
     "iopub.status.idle": "2023-06-21T22:33:53.531058Z",
     "shell.execute_reply": "2023-06-21T22:33:53.529765Z"
    },
    "papermill": {
     "duration": 0.02121,
     "end_time": "2023-06-21T22:33:53.533024",
     "exception": false,
     "start_time": "2023-06-21T22:33:53.511814",
     "status": "completed"
    },
    "tags": []
   },
   "outputs": [
    {
     "name": "stdout",
     "output_type": "stream",
     "text": [
      "Tesla\n",
      "75\n",
      "The car engine is starting.\n",
      "The electric car is being driven silently.\n",
      "The electric car battery is charging.\n"
     ]
    }
   ],
   "source": [
    "my_electric_car = ElectricCar(\"Tesla\", \"Model S\", 2023, 75)\n",
    "print(my_electric_car.make)  # Output: Tesla\n",
    "print(my_electric_car.battery_capacity)  # Output: 75\n",
    "\n",
    "my_electric_car.start_engine()  # Output: The car engine is starting.\n",
    "my_electric_car.drive()  # Output: The electric car is being driven silently.\n",
    "my_electric_car.charge_battery()  # Output: The electric car battery is charging."
   ]
  },
  {
   "cell_type": "markdown",
   "id": "a2621799",
   "metadata": {
    "papermill": {
     "duration": 0.012056,
     "end_time": "2023-06-21T22:33:53.557188",
     "exception": false,
     "start_time": "2023-06-21T22:33:53.545132",
     "status": "completed"
    },
    "tags": []
   },
   "source": [
    "In this example, we create an instance of `ElectricCar` called `my_electric_car`. It inherits the `make`, `model`, and `year` attributes from the `Car` class. Additionally, it has its own `battery_capacity` attribute.\n",
    "\n",
    "We can still access the methods inherited from the `Car` class, such as `start_engine()`. However, when we call the overridden `drive()` method, the specific behavior of the electric car is executed. We also have access to the `charge_battery()` method defined in the `ElectricCar` class."
   ]
  },
  {
   "cell_type": "markdown",
   "id": "53f2ae3b",
   "metadata": {
    "papermill": {
     "duration": 0.011973,
     "end_time": "2023-06-21T22:33:53.581546",
     "exception": false,
     "start_time": "2023-06-21T22:33:53.569573",
     "status": "completed"
    },
    "tags": []
   },
   "source": [
    "# One Hot Encoding\n",
    "\n",
    "One-hot encoding is a process for representing categorical data as binary vectors. This technique prevents models from incorrectly interpreting categorical variables (a, b, c) as ordinal or numeric values (1, 2, 3), thereby avoiding erroneous assumptions and poor performance.\n",
    "\n",
    "## Example\n",
    "\n",
    "Consider a dataset with a categorical variable **\"Fruit\"** comprising three categories: **\"Apple,\" \"Banana,\"** and **\"Orange.\"** Encoding these categories as 0, 1, and 2 without using one-hot encoding might lead the model to interpret them as ordinal values. This could result in flawed predictions due to the model's incorrect assumptions about the numerical proximity of the categories.\n",
    "\n",
    "By applying one-hot encoding, each category is represented as a distinct binary vector:\n",
    "\n",
    "- **Apple**: [1, 0, 0]\n",
    "- **Banana**: [0, 1, 0]\n",
    "- **Orange**: [0, 0, 1]\n",
    "\n",
    "<img src=\"https://www.blog.trainindata.com/assets/images/posts/ohe/cover.gif\">"
   ]
  },
  {
   "cell_type": "code",
   "execution_count": 14,
   "id": "13501e85",
   "metadata": {
    "execution": {
     "iopub.execute_input": "2023-06-21T22:33:53.607615Z",
     "iopub.status.busy": "2023-06-21T22:33:53.606795Z",
     "iopub.status.idle": "2023-06-21T22:33:53.614364Z",
     "shell.execute_reply": "2023-06-21T22:33:53.613315Z"
    },
    "papermill": {
     "duration": 0.022822,
     "end_time": "2023-06-21T22:33:53.616517",
     "exception": false,
     "start_time": "2023-06-21T22:33:53.593695",
     "status": "completed"
    },
    "tags": []
   },
   "outputs": [
    {
     "data": {
      "text/plain": [
       "array([[1., 0., 0.],\n",
       "       [0., 1., 0.],\n",
       "       [0., 0., 1.],\n",
       "       [0., 1., 0.]], dtype=float32)"
      ]
     },
     "execution_count": 14,
     "metadata": {},
     "output_type": "execute_result"
    }
   ],
   "source": [
    "c = np.array([0, 1, 2, 1])\n",
    "\n",
    "tf.keras.utils.to_categorical(c)"
   ]
  },
  {
   "cell_type": "markdown",
   "id": "3622dfe0",
   "metadata": {
    "papermill": {
     "duration": 0.012489,
     "end_time": "2023-06-21T22:33:53.641526",
     "exception": false,
     "start_time": "2023-06-21T22:33:53.629037",
     "status": "completed"
    },
    "tags": []
   },
   "source": [
    "# Data Loader\n",
    "Processing large datasets that consume a significant amount of memory can be challenging. Thus loading full data on memory is not feasible. Thus our previously used code format like this is not useful,\n",
    "\n",
    "```python\n",
    "X, y = np.load('some_training_set_with_labels.npy')\n",
    "\n",
    "# Build model\n",
    "model = LinearRegression()\n",
    "\n",
    "# Train model on dataset, where all the data is loaded on memory at once\n",
    "model.fit(x=X, y=y)\n",
    "```\n",
    "Moreover, traditional methods may not have enough memory to handle the data effectively. In such cases, batching, which involves dividing the dataset into smaller subsets or batches, can be employed to process the data efficiently. By generating and batching datasets using multiple cores in real-time, it becomes possible to seamlessly integrate them with deep learning models."
   ]
  },
  {
   "cell_type": "code",
   "execution_count": 15,
   "id": "de553316",
   "metadata": {
    "_kg_hide-input": true,
    "execution": {
     "iopub.execute_input": "2023-06-21T22:33:53.667653Z",
     "iopub.status.busy": "2023-06-21T22:33:53.667348Z",
     "iopub.status.idle": "2023-06-21T22:33:53.679431Z",
     "shell.execute_reply": "2023-06-21T22:33:53.678498Z"
    },
    "papermill": {
     "duration": 0.027509,
     "end_time": "2023-06-21T22:33:53.681453",
     "exception": false,
     "start_time": "2023-06-21T22:33:53.653944",
     "status": "completed"
    },
    "tags": []
   },
   "outputs": [],
   "source": [
    "class DataLoader(tf.keras.utils.Sequence):\n",
    "    \"\"\"\n",
    "    Custom data loader for Keras model training.\n",
    "    Ref: https://stanford.edu/~shervine/blog/keras-how-to-generate-data-on-the-fly\n",
    "\n",
    "    Args:\n",
    "        paths (list): List of file paths for the images.\n",
    "        labels (list): List of corresponding labels for the images.\n",
    "        batch_size (int): Number of samples per batch.\n",
    "        num_classes (int): Number of classes in the dataset.\n",
    "        dim (tuple): Dimensions of the input images.\n",
    "        shuffle (bool): Whether to shuffle the data after each epoch.\n",
    "\n",
    "    Methods:\n",
    "        __len__(): Returns the number of batches per epoch.\n",
    "        __getitem__(index): Generates one batch of data.\n",
    "        on_epoch_end(): Updates indexes after each epoch.\n",
    "        __data_generation(batch_indexes): Generates data for a batch.\n",
    "    \"\"\"\n",
    "\n",
    "    def __init__(self, paths, labels, batch_size=32, num_classes=10,\n",
    "                 dim=(28, 28), shuffle=True):\n",
    "        \"\"\"Initialization method for the DataLoader class.\"\"\"\n",
    "        self.paths = paths\n",
    "        self.labels = labels\n",
    "        self.batch_size = batch_size\n",
    "        self.num_classes = num_classes\n",
    "        self.dim = dim\n",
    "        self.shuffle = shuffle\n",
    "        self.on_epoch_end()\n",
    "\n",
    "    def __len__(self):\n",
    "        \"\"\"Returns the number of batches per epoch.\"\"\"\n",
    "        return int(np.ceil(len(self.paths) / self.batch_size))\n",
    "\n",
    "    def __getitem__(self, index):\n",
    "        \"\"\"Generates one batch of data.\"\"\"\n",
    "        # Generate indexes of the batch\n",
    "        batch_indexes = self.indexes[index * self.batch_size:(index + 1) * self.batch_size]\n",
    "\n",
    "        # Generate data\n",
    "        X, y = self.__data_generation(batch_indexes)\n",
    "\n",
    "        return X, y\n",
    "\n",
    "    def on_epoch_end(self):\n",
    "        \"\"\"Updates indexes after each epoch.\"\"\"\n",
    "        self.indexes = np.arange(len(self.paths))\n",
    "        if self.shuffle == True:\n",
    "            np.random.shuffle(self.indexes)\n",
    "\n",
    "    def __data_generation(self, batch_indexes):\n",
    "        \"\"\"Generates data containing batch_size samples.\"\"\"\n",
    "        # Initialization\n",
    "        X = np.empty((self.batch_size, *self.dim))\n",
    "        y = np.empty((self.batch_size), dtype=int)\n",
    "\n",
    "        # Generate data\n",
    "        for i, idx in enumerate(batch_indexes):\n",
    "            # Store sample\n",
    "            X[i,] = load_image(self.paths[idx])\n",
    "\n",
    "            # Store class\n",
    "            y[i] = self.labels[idx]\n",
    "\n",
    "        # Flatten the image pixels for Dense layer\n",
    "        X = X.reshape(self.batch_size, -1)  # shape: (32, 28, 28) => (32, 28*28) => (32, 784)\n",
    "\n",
    "        # Do scaling, range: [0, 255] => [0, 1]\n",
    "        X = X / 255.0\n",
    "\n",
    "        # Apply one-hot encoding to labels [0, 1, 2] => [[1, 0, 0], [0, 1, 0], [0, 0, 1]]\n",
    "        y = tf.keras.utils.to_categorical(y, num_classes=self.num_classes)\n",
    "\n",
    "        return X, y"
   ]
  },
  {
   "cell_type": "markdown",
   "id": "e1a243bc",
   "metadata": {
    "papermill": {
     "duration": 0.012166,
     "end_time": "2023-06-21T22:33:53.706213",
     "exception": false,
     "start_time": "2023-06-21T22:33:53.694047",
     "status": "completed"
    },
    "tags": []
   },
   "source": [
    "## Loader check"
   ]
  },
  {
   "cell_type": "code",
   "execution_count": 16,
   "id": "223a1166",
   "metadata": {
    "_kg_hide-input": true,
    "execution": {
     "iopub.execute_input": "2023-06-21T22:33:53.734689Z",
     "iopub.status.busy": "2023-06-21T22:33:53.733157Z",
     "iopub.status.idle": "2023-06-21T22:33:53.815323Z",
     "shell.execute_reply": "2023-06-21T22:33:53.813289Z"
    },
    "papermill": {
     "duration": 0.099157,
     "end_time": "2023-06-21T22:33:53.817691",
     "exception": false,
     "start_time": "2023-06-21T22:33:53.718534",
     "status": "completed"
    },
    "tags": []
   },
   "outputs": [
    {
     "name": "stdout",
     "output_type": "stream",
     "text": [
      "Images:\n",
      " [[0. 0. 0. ... 0. 0. 0.]\n",
      " [0. 0. 0. ... 0. 0. 0.]\n",
      " [0. 0. 0. ... 0. 0. 0.]\n",
      " ...\n",
      " [0. 0. 0. ... 0. 0. 0.]\n",
      " [0. 0. 0. ... 0. 0. 0.]\n",
      " [0. 0. 0. ... 0. 0. 0.]]\n",
      "\n",
      "Labels:\n",
      " [[0. 1. 0. 0. 0. 0. 0. 0. 0. 0.]\n",
      " [0. 0. 1. 0. 0. 0. 0. 0. 0. 0.]\n",
      " [0. 0. 0. 0. 0. 1. 0. 0. 0. 0.]\n",
      " [0. 0. 1. 0. 0. 0. 0. 0. 0. 0.]\n",
      " [1. 0. 0. 0. 0. 0. 0. 0. 0. 0.]\n",
      " [0. 0. 0. 1. 0. 0. 0. 0. 0. 0.]\n",
      " [0. 0. 0. 0. 0. 0. 1. 0. 0. 0.]\n",
      " [0. 0. 0. 0. 0. 1. 0. 0. 0. 0.]\n",
      " [0. 0. 0. 1. 0. 0. 0. 0. 0. 0.]\n",
      " [0. 0. 0. 0. 0. 0. 0. 0. 0. 1.]\n",
      " [0. 0. 0. 1. 0. 0. 0. 0. 0. 0.]\n",
      " [0. 0. 0. 0. 0. 0. 1. 0. 0. 0.]\n",
      " [0. 1. 0. 0. 0. 0. 0. 0. 0. 0.]\n",
      " [0. 0. 0. 0. 0. 0. 0. 0. 0. 1.]\n",
      " [0. 0. 0. 0. 0. 0. 0. 0. 0. 1.]\n",
      " [0. 0. 0. 0. 0. 0. 1. 0. 0. 0.]]\n"
     ]
    }
   ],
   "source": [
    "paths = train_df.image_path.tolist()\n",
    "labels = train_df.label.tolist()\n",
    "\n",
    "train_loader = DataLoader(paths, labels, batch_size=16)\n",
    "\n",
    "imgs, tars = train_loader.__getitem__(0)\n",
    "print(\"Images:\\n\", imgs)\n",
    "\n",
    "print(\"\\nLabels:\\n\", tars)"
   ]
  },
  {
   "cell_type": "markdown",
   "id": "be6ddd70",
   "metadata": {
    "papermill": {
     "duration": 0.012273,
     "end_time": "2023-06-21T22:33:53.843583",
     "exception": false,
     "start_time": "2023-06-21T22:33:53.831310",
     "status": "completed"
    },
    "tags": []
   },
   "source": [
    "## Visualize Loader"
   ]
  },
  {
   "cell_type": "code",
   "execution_count": 17,
   "id": "c3c3ccfa",
   "metadata": {
    "_kg_hide-input": true,
    "execution": {
     "iopub.execute_input": "2023-06-21T22:33:53.870267Z",
     "iopub.status.busy": "2023-06-21T22:33:53.869460Z",
     "iopub.status.idle": "2023-06-21T22:33:54.917282Z",
     "shell.execute_reply": "2023-06-21T22:33:54.916372Z"
    },
    "papermill": {
     "duration": 1.063512,
     "end_time": "2023-06-21T22:33:54.919542",
     "exception": false,
     "start_time": "2023-06-21T22:33:53.856030",
     "status": "completed"
    },
    "tags": []
   },
   "outputs": [
    {
     "data": {
      "image/png": "[encoded data removed]",
      "text/plain": [
       "<Figure size 800x800 with 16 Axes>"
      ]
     },
     "metadata": {},
     "output_type": "display_data"
    }
   ],
   "source": [
    "# Define the size of the grid\n",
    "grid_size = 4\n",
    "\n",
    "# Create a figure and axes for the grid of images\n",
    "fig, axes = plt.subplots(grid_size, grid_size, figsize=(grid_size*2, grid_size*2))\n",
    "\n",
    "# Iterate over the images and labels\n",
    "for i in range(16):\n",
    "    # Generate random index\n",
    "    img_idx = np.random.randint(0, 16)\n",
    "    \n",
    "    # Load the image\n",
    "    img = imgs[img_idx].reshape(28, 28) # images are feed as flatten to models\n",
    "    \n",
    "    # Get Label\n",
    "    tar = tars[img_idx].argmax(axis=-1) # label is one hot encoded\n",
    "\n",
    "    # Determine the row and column indices in the grid\n",
    "    x = i // grid_size\n",
    "    y = i % grid_size\n",
    "\n",
    "    # Display the image in the corresponding grid cell\n",
    "    axes[x, y].imshow(img)\n",
    "    axes[x, y].set_title(str(tar))\n",
    "    axes[x, y].axis('off')\n",
    "\n",
    "# Adjust the spacing and layout of the subplots\n",
    "plt.tight_layout()\n",
    "\n",
    "# Show the grid of images\n",
    "plt.show()"
   ]
  },
  {
   "cell_type": "markdown",
   "id": "0dff7843",
   "metadata": {
    "papermill": {
     "duration": 0.013071,
     "end_time": "2023-06-21T22:33:54.945988",
     "exception": false,
     "start_time": "2023-06-21T22:33:54.932917",
     "status": "completed"
    },
    "tags": []
   },
   "source": [
    "# Training\n",
    "Now let's train a digit recognition model in other words, \"চলো অঙ্ক শিখাই\" 👶. \n",
    "\n",
    "<img src=\"https://miro.medium.com/v2/resize:fit:1280/1*ATKZX26sQmuto5cc-y37gg.gif\" width=700>"
   ]
  },
  {
   "cell_type": "code",
   "execution_count": 18,
   "id": "f8210d06",
   "metadata": {
    "execution": {
     "iopub.execute_input": "2023-06-21T22:33:54.973496Z",
     "iopub.status.busy": "2023-06-21T22:33:54.972658Z",
     "iopub.status.idle": "2023-06-21T22:35:42.220901Z",
     "shell.execute_reply": "2023-06-21T22:35:42.219245Z"
    },
    "papermill": {
     "duration": 107.264308,
     "end_time": "2023-06-21T22:35:42.223140",
     "exception": false,
     "start_time": "2023-06-21T22:33:54.958832",
     "status": "completed"
    },
    "tags": []
   },
   "outputs": [
    {
     "name": "stdout",
     "output_type": "stream",
     "text": [
      "## Training\n",
      "Epoch 1/5\n",
      "79/79 [==============================] - 43s 495ms/step - loss: 0.4986 - accuracy: 0.8534 - val_loss: 0.2795 - val_accuracy: 0.9092\n",
      "Epoch 2/5\n",
      "79/79 [==============================] - 13s 161ms/step - loss: 0.2168 - accuracy: 0.9348 - val_loss: 0.1505 - val_accuracy: 0.9512\n",
      "Epoch 3/5\n",
      "79/79 [==============================] - 12s 154ms/step - loss: 0.1215 - accuracy: 0.9655 - val_loss: 0.4003 - val_accuracy: 0.9229\n",
      "Epoch 4/5\n",
      "79/79 [==============================] - 12s 157ms/step - loss: 0.0992 - accuracy: 0.9688 - val_loss: 0.1735 - val_accuracy: 0.9375\n",
      "Epoch 5/5\n",
      "79/79 [==============================] - 12s 155ms/step - loss: 0.0554 - accuracy: 0.9836 - val_loss: 0.1318 - val_accuracy: 0.9526\n",
      "\n",
      "## Inference\n",
      "20/20 [==============================] - 2s 104ms/step\n",
      "\n",
      "## Accuracy: 0.9525\n",
      "\n",
      "## Classification Report:\n",
      "               precision    recall  f1-score   support\n",
      "\n",
      "           0       0.98      0.98      0.98       200\n",
      "           1       0.97      1.00      0.98       233\n",
      "           2       0.94      0.99      0.97       205\n",
      "           3       0.90      0.93      0.92       192\n",
      "           4       0.96      0.97      0.96       205\n",
      "           5       0.96      0.87      0.91       174\n",
      "           6       0.99      0.96      0.98       169\n",
      "           7       0.98      0.91      0.94       215\n",
      "           8       0.90      0.95      0.92       198\n",
      "           9       0.95      0.95      0.95       209\n",
      "\n",
      "    accuracy                           0.95      2000\n",
      "   macro avg       0.95      0.95      0.95      2000\n",
      "weighted avg       0.95      0.95      0.95      2000\n",
      "\n"
     ]
    }
   ],
   "source": [
    "# Step 1: Get train-test image paths and labels\n",
    "train_paths = train_df['image_path'].tolist()\n",
    "train_labels = train_df['label'].tolist()\n",
    "\n",
    "test_paths = test_df['image_path'].tolist()\n",
    "test_labels = test_df['label'].tolist()\n",
    "\n",
    "# Step 2: Data loader\n",
    "train_loader = DataLoader(train_paths, train_labels, batch_size=128)\n",
    "\n",
    "test_loader = DataLoader(test_paths, test_labels, batch_size=128, shuffle=False)\n",
    "\n",
    "\n",
    "# Step 3: Build the model\n",
    "model = tf.keras.Sequential([\n",
    "    tf.keras.layers.Input(shape=(28*28,)),\n",
    "    tf.keras.layers.Dense(1024, activation='relu'),\n",
    "    tf.keras.layers.Dense(128, activation='relu'),\n",
    "    tf.keras.layers.Dense(10, activation='softmax')\n",
    "])\n",
    "model.compile(optimizer='adam', loss='categorical_crossentropy', metrics=['accuracy'])\n",
    "\n",
    "\n",
    "# Step 4: Model training\n",
    "print('## Training')\n",
    "model.fit(train_loader,\n",
    "          validation_data=test_loader,\n",
    "          epochs=5,\n",
    "          verbose=1)\n",
    "\n",
    "# Step 5: Predict on test data\n",
    "print(\"\\n## Inference\")\n",
    "test_loader = DataLoader(test_paths, test_labels, batch_size=100, shuffle=False)\n",
    "predictions = model.predict(test_loader)\n",
    "\n",
    "# Step 6: Measure performance\n",
    "acc = accuracy_score(test_labels, predictions.argmax(-1))\n",
    "print(f\"\\n## Accuracy: {acc}\")\n",
    "\n",
    "report = classification_report(test_labels, predictions.argmax(-1))\n",
    "print(\"\\n## Classification Report:\\n\", report)"
   ]
  },
  {
   "cell_type": "markdown",
   "id": "094adbc1",
   "metadata": {
    "papermill": {
     "duration": 0.043341,
     "end_time": "2023-06-21T22:35:42.314100",
     "exception": false,
     "start_time": "2023-06-21T22:35:42.270759",
     "status": "completed"
    },
    "tags": []
   },
   "source": [
    "# Result Analysis"
   ]
  },
  {
   "cell_type": "code",
   "execution_count": 19,
   "id": "60792915",
   "metadata": {
    "_kg_hide-input": true,
    "collapsed": true,
    "execution": {
     "iopub.execute_input": "2023-06-21T22:35:42.404800Z",
     "iopub.status.busy": "2023-06-21T22:35:42.402947Z",
     "iopub.status.idle": "2023-06-21T22:35:44.692636Z",
     "shell.execute_reply": "2023-06-21T22:35:44.691659Z"
    },
    "jupyter": {
     "outputs_hidden": true
    },
    "papermill": {
     "duration": 2.337294,
     "end_time": "2023-06-21T22:35:44.695202",
     "exception": false,
     "start_time": "2023-06-21T22:35:42.357908",
     "status": "completed"
    },
    "tags": []
   },
   "outputs": [
    {
     "data": {
      "image/png": "[encoded data removed]",
      "text/plain": [
       "<Figure size 1000x1000 with 36 Axes>"
      ]
     },
     "metadata": {},
     "output_type": "display_data"
    }
   ],
   "source": [
    "import numpy as np\n",
    "import matplotlib.pyplot as plt\n",
    "\n",
    "num_images = 36\n",
    "sqrt_num_images = int(np.sqrt(num_images))\n",
    "indices = np.random.choice(len(test_paths), num_images, replace=False)\n",
    "fig, axes = plt.subplots(nrows=sqrt_num_images, ncols=sqrt_num_images, figsize=(10, 10))\n",
    "\n",
    "for i, idx in enumerate(indices):\n",
    "    row = i // sqrt_num_images\n",
    "    col = i % sqrt_num_images\n",
    "\n",
    "    image_path = test_paths[idx]\n",
    "    image = load_image(image_path)  # Load and preprocess single image\n",
    "    prediction = np.argmax(predictions[idx], axis=-1)\n",
    "    ground_truth = test_labels[idx]\n",
    "\n",
    "    axes[row, col].imshow(image)\n",
    "    axes[row, col].axis('off')\n",
    "\n",
    "    if prediction == ground_truth:\n",
    "        axes[row, col].set_title(f'Pred: {prediction}, Truth: {ground_truth}')\n",
    "    else:\n",
    "        axes[row, col].set_title(f'Pred: {prediction}, Truth: {ground_truth}', color='red')\n",
    "\n",
    "plt.tight_layout()\n",
    "plt.show()\n"
   ]
  }
 ],
 "metadata": {
  "kernelspec": {
   "display_name": "Python 3",
   "language": "python",
   "name": "python3"
  },
  "language_info": {
   "codemirror_mode": {
    "name": "ipython",
    "version": 3
   },
   "file_extension": ".py",
   "mimetype": "text/x-python",
   "name": "python",
   "nbconvert_exporter": "python",
   "pygments_lexer": "ipython3",
   "version": "3.10.10"
  },
  "papermill": {
   "default_parameters": {},
   "duration": 143.798116,
   "end_time": "2023-06-21T22:35:47.515769",
   "environment_variables": {},
   "exception": null,
   "input_path": "__notebook__.ipynb",
   "output_path": "__notebook__.ipynb",
   "parameters": {},
   "start_time": "2023-06-21T22:33:23.717653",
   "version": "2.4.0"
  }
 },
 "nbformat": 4,
 "nbformat_minor": 5
}
