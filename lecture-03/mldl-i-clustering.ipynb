{
 "cells": [
  {
   "cell_type": "markdown",
   "id": "015fc176",
   "metadata": {
    "papermill": {
     "duration": 0.004401,
     "end_time": "2023-06-21T23:23:19.749010",
     "exception": false,
     "start_time": "2023-06-21T23:23:19.744609",
     "status": "completed"
    },
    "tags": []
   },
   "source": [
    "# Import Libraries"
   ]
  },
  {
   "cell_type": "code",
   "execution_count": 1,
   "id": "4c0c6d30",
   "metadata": {
    "execution": {
     "iopub.execute_input": "2023-06-21T23:23:19.759102Z",
     "iopub.status.busy": "2023-06-21T23:23:19.758610Z",
     "iopub.status.idle": "2023-06-21T23:23:21.110673Z",
     "shell.execute_reply": "2023-06-21T23:23:21.109613Z"
    },
    "papermill": {
     "duration": 1.36047,
     "end_time": "2023-06-21T23:23:21.113452",
     "exception": false,
     "start_time": "2023-06-21T23:23:19.752982",
     "status": "completed"
    },
    "tags": []
   },
   "outputs": [],
   "source": [
    "# Importing necessary libraries\n",
    "import pandas as pd\n",
    "import matplotlib.pyplot as plt\n",
    "import seaborn as sns"
   ]
  },
  {
   "cell_type": "markdown",
   "id": "f2fd1cd1",
   "metadata": {
    "papermill": {
     "duration": 0.003463,
     "end_time": "2023-06-21T23:23:21.120864",
     "exception": false,
     "start_time": "2023-06-21T23:23:21.117401",
     "status": "completed"
    },
    "tags": []
   },
   "source": [
    "# Load Data\n",
    "\n",
    "<img src=\"https://editor.analyticsvidhya.com/uploads/51518iris%20img1.png\" width=700>"
   ]
  },
  {
   "cell_type": "code",
   "execution_count": 2,
   "id": "22fe5ada",
   "metadata": {
    "_cell_guid": "b1076dfc-b9ad-4769-8c92-a6c4dae69d19",
    "_uuid": "8f2839f25d086af736a60e9eeb907d3b93b6e0e5",
    "execution": {
     "iopub.execute_input": "2023-06-21T23:23:21.129284Z",
     "iopub.status.busy": "2023-06-21T23:23:21.128907Z",
     "iopub.status.idle": "2023-06-21T23:23:21.183008Z",
     "shell.execute_reply": "2023-06-21T23:23:21.181877Z"
    },
    "papermill": {
     "duration": 0.063303,
     "end_time": "2023-06-21T23:23:21.187676",
     "exception": false,
     "start_time": "2023-06-21T23:23:21.124373",
     "status": "completed"
    },
    "tags": []
   },
   "outputs": [
    {
     "data": {
      "text/html": [
       "<div>\n",
       "<style scoped>\n",
       "    .dataframe tbody tr th:only-of-type {\n",
       "        vertical-align: middle;\n",
       "    }\n",
       "\n",
       "    .dataframe tbody tr th {\n",
       "        vertical-align: top;\n",
       "    }\n",
       "\n",
       "    .dataframe thead th {\n",
       "        text-align: right;\n",
       "    }\n",
       "</style>\n",
       "<table border=\"1\" class=\"dataframe\">\n",
       "  <thead>\n",
       "    <tr style=\"text-align: right;\">\n",
       "      <th></th>\n",
       "      <th>Id</th>\n",
       "      <th>SepalLengthCm</th>\n",
       "      <th>SepalWidthCm</th>\n",
       "      <th>PetalLengthCm</th>\n",
       "      <th>PetalWidthCm</th>\n",
       "      <th>Species</th>\n",
       "      <th>target</th>\n",
       "    </tr>\n",
       "  </thead>\n",
       "  <tbody>\n",
       "    <tr>\n",
       "      <th>0</th>\n",
       "      <td>1</td>\n",
       "      <td>5.1</td>\n",
       "      <td>3.5</td>\n",
       "      <td>1.4</td>\n",
       "      <td>0.2</td>\n",
       "      <td>setosa</td>\n",
       "      <td>0</td>\n",
       "    </tr>\n",
       "    <tr>\n",
       "      <th>1</th>\n",
       "      <td>2</td>\n",
       "      <td>4.9</td>\n",
       "      <td>3.0</td>\n",
       "      <td>1.4</td>\n",
       "      <td>0.2</td>\n",
       "      <td>setosa</td>\n",
       "      <td>0</td>\n",
       "    </tr>\n",
       "    <tr>\n",
       "      <th>2</th>\n",
       "      <td>3</td>\n",
       "      <td>4.7</td>\n",
       "      <td>3.2</td>\n",
       "      <td>1.3</td>\n",
       "      <td>0.2</td>\n",
       "      <td>setosa</td>\n",
       "      <td>0</td>\n",
       "    </tr>\n",
       "    <tr>\n",
       "      <th>3</th>\n",
       "      <td>4</td>\n",
       "      <td>4.6</td>\n",
       "      <td>3.1</td>\n",
       "      <td>1.5</td>\n",
       "      <td>0.2</td>\n",
       "      <td>setosa</td>\n",
       "      <td>0</td>\n",
       "    </tr>\n",
       "    <tr>\n",
       "      <th>4</th>\n",
       "      <td>5</td>\n",
       "      <td>5.0</td>\n",
       "      <td>3.6</td>\n",
       "      <td>1.4</td>\n",
       "      <td>0.2</td>\n",
       "      <td>setosa</td>\n",
       "      <td>0</td>\n",
       "    </tr>\n",
       "  </tbody>\n",
       "</table>\n",
       "</div>"
      ],
      "text/plain": [
       "   Id  SepalLengthCm  SepalWidthCm  PetalLengthCm  PetalWidthCm Species  \\\n",
       "0   1            5.1           3.5            1.4           0.2  setosa   \n",
       "1   2            4.9           3.0            1.4           0.2  setosa   \n",
       "2   3            4.7           3.2            1.3           0.2  setosa   \n",
       "3   4            4.6           3.1            1.5           0.2  setosa   \n",
       "4   5            5.0           3.6            1.4           0.2  setosa   \n",
       "\n",
       "   target  \n",
       "0       0  \n",
       "1       0  \n",
       "2       0  \n",
       "3       0  \n",
       "4       0  "
      ]
     },
     "metadata": {},
     "output_type": "display_data"
    }
   ],
   "source": [
    "# Load the Iris dataset from sklearn\n",
    "df = pd.read_csv('/kaggle/input/iris/Iris.csv')\n",
    "\n",
    "df[\"Species\"] = df.Species.str.replace(\"Iris-\",\"\")\n",
    "\n",
    "# Map species to target label\n",
    "name2label = {'setosa':0, 'versicolor':1, 'virginica':2}\n",
    "label2name = {v:k for k, v in name2label.items()}\n",
    "\n",
    "\n",
    "df['target'] = df.Species.map(name2label)\n",
    "\n",
    "# Displaying the first five rows of the dataset\n",
    "display(df.head())"
   ]
  },
  {
   "cell_type": "markdown",
   "id": "4074281c",
   "metadata": {
    "papermill": {
     "duration": 0.004017,
     "end_time": "2023-06-21T23:23:21.196706",
     "exception": false,
     "start_time": "2023-06-21T23:23:21.192689",
     "status": "completed"
    },
    "tags": []
   },
   "source": [
    "# Select Features"
   ]
  },
  {
   "cell_type": "code",
   "execution_count": 3,
   "id": "24fc6d04",
   "metadata": {
    "execution": {
     "iopub.execute_input": "2023-06-21T23:23:21.209865Z",
     "iopub.status.busy": "2023-06-21T23:23:21.209400Z",
     "iopub.status.idle": "2023-06-21T23:23:21.214683Z",
     "shell.execute_reply": "2023-06-21T23:23:21.213581Z"
    },
    "papermill": {
     "duration": 0.014853,
     "end_time": "2023-06-21T23:23:21.216829",
     "exception": false,
     "start_time": "2023-06-21T23:23:21.201976",
     "status": "completed"
    },
    "tags": []
   },
   "outputs": [],
   "source": [
    "FEATURES = ['SepalLengthCm', 'SepalWidthCm', 'PetalLengthCm', 'PetalWidthCm']\n",
    "TARGET = ['target']"
   ]
  },
  {
   "cell_type": "markdown",
   "id": "b7fac18a",
   "metadata": {
    "papermill": {
     "duration": 0.00367,
     "end_time": "2023-06-21T23:23:21.224487",
     "exception": false,
     "start_time": "2023-06-21T23:23:21.220817",
     "status": "completed"
    },
    "tags": []
   },
   "source": [
    "# Data Split"
   ]
  },
  {
   "cell_type": "code",
   "execution_count": 4,
   "id": "dd23ee35",
   "metadata": {
    "execution": {
     "iopub.execute_input": "2023-06-21T23:23:21.235492Z",
     "iopub.status.busy": "2023-06-21T23:23:21.234635Z",
     "iopub.status.idle": "2023-06-21T23:23:21.479516Z",
     "shell.execute_reply": "2023-06-21T23:23:21.478449Z"
    },
    "papermill": {
     "duration": 0.252403,
     "end_time": "2023-06-21T23:23:21.482092",
     "exception": false,
     "start_time": "2023-06-21T23:23:21.229689",
     "status": "completed"
    },
    "tags": []
   },
   "outputs": [],
   "source": [
    "from sklearn.model_selection import train_test_split\n",
    "import numpy as np\n",
    "\n",
    "# Split the dataset into training and testing sets\n",
    "train_df, test_df = train_test_split(df, test_size=0.5, random_state=0)\n",
    "\n",
    "# Train features and labels\n",
    "x_train = train_df[FEATURES].values\n",
    "x_train += np.random.uniform(size=x_train.shape) # add some noise\n",
    "y_train = train_df[TARGET].values.ravel()\n",
    "\n",
    "# Test features and labels\n",
    "x_test = test_df[FEATURES].values\n",
    "x_test += np.random.uniform(size=x_test.shape) # add some noise\n",
    "y_test = test_df[TARGET].values.ravel()"
   ]
  },
  {
   "cell_type": "markdown",
   "id": "3063b9bb",
   "metadata": {
    "papermill": {
     "duration": 0.003612,
     "end_time": "2023-06-21T23:23:21.489742",
     "exception": false,
     "start_time": "2023-06-21T23:23:21.486130",
     "status": "completed"
    },
    "tags": []
   },
   "source": [
    "# Define Metric"
   ]
  },
  {
   "cell_type": "code",
   "execution_count": 5,
   "id": "2ccac261",
   "metadata": {
    "execution": {
     "iopub.execute_input": "2023-06-21T23:23:21.499596Z",
     "iopub.status.busy": "2023-06-21T23:23:21.498871Z",
     "iopub.status.idle": "2023-06-21T23:23:21.503521Z",
     "shell.execute_reply": "2023-06-21T23:23:21.502609Z"
    },
    "papermill": {
     "duration": 0.011867,
     "end_time": "2023-06-21T23:23:21.505583",
     "exception": false,
     "start_time": "2023-06-21T23:23:21.493716",
     "status": "completed"
    },
    "tags": []
   },
   "outputs": [],
   "source": [
    "from sklearn.metrics import accuracy_score, classification_report"
   ]
  },
  {
   "cell_type": "markdown",
   "id": "11b68ee4",
   "metadata": {
    "papermill": {
     "duration": 0.003645,
     "end_time": "2023-06-21T23:23:21.513164",
     "exception": false,
     "start_time": "2023-06-21T23:23:21.509519",
     "status": "completed"
    },
    "tags": []
   },
   "source": [
    "# K-Means\n",
    "\n",
    "K-means clustering is a popular unsupervised machine learning algorithm used to partition a dataset into distinct groups or clusters based on their similarity. The algorithm aims to minimize the intra-cluster distance while maximizing the inter-cluster distance by iteratively assigning data points to the nearest cluster centroid and updating the centroids until convergence.\n",
    "\n",
    "<img src=\"https://static.javatpoint.com/tutorial/machine-learning/images/k-means-clustering-algorithm-in-machine-learning.png\" width=600>"
   ]
  },
  {
   "cell_type": "code",
   "execution_count": 6,
   "id": "1f2a1ccb",
   "metadata": {
    "_kg_hide-input": true,
    "execution": {
     "iopub.execute_input": "2023-06-21T23:23:21.522190Z",
     "iopub.status.busy": "2023-06-21T23:23:21.521852Z",
     "iopub.status.idle": "2023-06-21T23:23:22.545587Z",
     "shell.execute_reply": "2023-06-21T23:23:22.544547Z"
    },
    "papermill": {
     "duration": 1.030789,
     "end_time": "2023-06-21T23:23:22.547794",
     "exception": false,
     "start_time": "2023-06-21T23:23:21.517005",
     "status": "completed"
    },
    "tags": []
   },
   "outputs": [
    {
     "name": "stderr",
     "output_type": "stream",
     "text": [
      "/opt/conda/lib/python3.10/site-packages/sklearn/cluster/_kmeans.py:870: FutureWarning: The default value of `n_init` will change from 10 to 'auto' in 1.4. Set the value of `n_init` explicitly to suppress the warning\n",
      "  warnings.warn(\n",
      "/tmp/ipykernel_20/3708869757.py:18: FutureWarning: Unlike other reduction functions (e.g. `skew`, `kurtosis`), the default behavior of `mode` typically preserves the axis it acts along. In SciPy 1.11.0, this behavior will change: the default value of `keepdims` will become False, the `axis` over which the statistic is taken will be eliminated, and the value None will no longer be accepted. Set `keepdims` to True or False to avoid this warning.\n",
      "  labels[mask] = mode(y_train[mask])[0]\n"
     ]
    },
    {
     "name": "stdout",
     "output_type": "stream",
     "text": [
      "Accuracy: 0.8933333333333333\n"
     ]
    },
    {
     "data": {
      "image/png": "[encoded data removed]",
      "text/plain": [
       "<Figure size 1400x600 with 2 Axes>"
      ]
     },
     "metadata": {},
     "output_type": "display_data"
    }
   ],
   "source": [
    "from sklearn.cluster import KMeans\n",
    "from sklearn.metrics import accuracy_score\n",
    "import numpy as np\n",
    "from scipy.stats import mode\n",
    "import matplotlib.pyplot as plt\n",
    "\n",
    "# Create and fit KMeans model\n",
    "kmeans_model = KMeans(n_clusters=3, random_state=42)\n",
    "kmeans_model.fit(x_train)\n",
    "\n",
    "# Make predictions on the entire dataset\n",
    "y_pred = kmeans_model.predict(x_train)\n",
    "\n",
    "# Map predicted clusters to actual labels\n",
    "labels = np.zeros_like(y_pred)\n",
    "for i in range(3):  # Number of clusters\n",
    "    mask = (y_pred == i)\n",
    "    labels[mask] = mode(y_train[mask])[0]\n",
    "\n",
    "# Calculate accuracy\n",
    "accuracy = accuracy_score(y_train, labels)\n",
    "\n",
    "# Print the evaluation results\n",
    "print(\"Accuracy:\", accuracy)\n",
    "\n",
    "# Plotting the ground truth clusters\n",
    "plt.figure(figsize=(14, 6))\n",
    "plt.subplot(1, 2, 1)\n",
    "for i in range(3):\n",
    "    plt.scatter(x_train[y_train == i, 0], x_train[y_train == i, 1], label=label2name[i], s=50)\n",
    "plt.title(\"Ground Truth\")\n",
    "plt.legend()\n",
    "\n",
    "# Plotting the predicted clusters\n",
    "plt.subplot(1, 2, 2)\n",
    "for i in range(3):\n",
    "    plt.scatter(x_train[labels == i, 0], x_train[labels == i, 1], label=label2name[i], s=50)\n",
    "plt.title(\"Predictions\")\n",
    "plt.legend()\n",
    "\n",
    "plt.show()\n"
   ]
  },
  {
   "cell_type": "markdown",
   "id": "7ad202ec",
   "metadata": {
    "papermill": {
     "duration": 0.004527,
     "end_time": "2023-06-21T23:23:22.557557",
     "exception": false,
     "start_time": "2023-06-21T23:23:22.553030",
     "status": "completed"
    },
    "tags": []
   },
   "source": [
    "We use the `mode` function in the K-Means clustering context to map the arbitrary cluster labels, assigned by the K-Means algorithm, to the actual labels in our dataset.\n",
    "\n",
    "- **Why do we need mapping?** \n",
    "\n",
    "K-Means is an unsupervised machine learning algorithm, which means it doesn't have access to the actual labels of the data points. It forms clusters based on the similarity of data points and assigns labels based on the proximity to cluster centers. These labels assigned by K-Means may not correspond to the actual categories of our data points.\n",
    "\n",
    "- **What if we don't map the labels?**\n",
    "\n",
    "If you directly compare the labels predicted by the K-Means algorithm with the true labels for accuracy calculation, the result could be misleading due to this arbitrary labeling. \n",
    "\n",
    "- **How does `mode` help here?**\n",
    "\n",
    "To solve this issue, for each cluster identified by K-Means, we find the most common true label (i.e., the mode) among the samples in that cluster. We then assign this most common true label to all data points in that particular cluster. This way, we \"translate\" the K-Means labels into our actual dataset labels, which allows us to calculate the accuracy in a way that truly reflects how well the K-Means clustering matches the actual groupings in our data.\n",
    "\n",
    "- **An important note:**\n",
    "\n",
    "This approach assumes that the true labels are known, which is not typically the case with unsupervised learning - where the goal is to discover hidden patterns or structures in unlabeled data. This method is used here mainly for illustrative purposes, and to enable us to calculate an \"accuracy\" for the K-Means algorithm.\n"
   ]
  },
  {
   "cell_type": "markdown",
   "id": "57f24b61",
   "metadata": {
    "papermill": {
     "duration": 0.004358,
     "end_time": "2023-06-21T23:23:22.566547",
     "exception": false,
     "start_time": "2023-06-21T23:23:22.562189",
     "status": "completed"
    },
    "tags": []
   },
   "source": [
    "# Hierarchical clustering - Agglomerative Clustering\n",
    "<img src=\"https://miro.medium.com/v2/resize:fit:740/1*VvOVxdBb74IOxxF2RmthCQ.png\" width=600>"
   ]
  },
  {
   "cell_type": "code",
   "execution_count": 7,
   "id": "9650e74c",
   "metadata": {
    "_kg_hide-input": true,
    "execution": {
     "iopub.execute_input": "2023-06-21T23:23:22.577214Z",
     "iopub.status.busy": "2023-06-21T23:23:22.576842Z",
     "iopub.status.idle": "2023-06-21T23:23:23.169365Z",
     "shell.execute_reply": "2023-06-21T23:23:23.168282Z"
    },
    "papermill": {
     "duration": 0.600456,
     "end_time": "2023-06-21T23:23:23.171590",
     "exception": false,
     "start_time": "2023-06-21T23:23:22.571134",
     "status": "completed"
    },
    "tags": []
   },
   "outputs": [
    {
     "name": "stderr",
     "output_type": "stream",
     "text": [
      "/tmp/ipykernel_20/741177749.py:18: FutureWarning: Unlike other reduction functions (e.g. `skew`, `kurtosis`), the default behavior of `mode` typically preserves the axis it acts along. In SciPy 1.11.0, this behavior will change: the default value of `keepdims` will become False, the `axis` over which the statistic is taken will be eliminated, and the value None will no longer be accepted. Set `keepdims` to True or False to avoid this warning.\n",
      "  labels[mask] = mode(y_train[mask])[0]\n"
     ]
    },
    {
     "name": "stdout",
     "output_type": "stream",
     "text": [
      "Accuracy: 0.92\n"
     ]
    },
    {
     "data": {
      "image/png": "[encoded data removed]",
      "text/plain": [
       "<Figure size 1400x600 with 2 Axes>"
      ]
     },
     "metadata": {},
     "output_type": "display_data"
    }
   ],
   "source": [
    "from sklearn.cluster import AgglomerativeClustering\n",
    "from sklearn.metrics import accuracy_score\n",
    "import numpy as np\n",
    "from scipy.stats import mode\n",
    "import matplotlib.pyplot as plt\n",
    "\n",
    "# Create and fit Hierarchical clustering model\n",
    "hierarchical_model = AgglomerativeClustering(n_clusters=3)\n",
    "hierarchical_model.fit(x_train)\n",
    "\n",
    "# Make predictions on the entire dataset\n",
    "y_pred = hierarchical_model.labels_\n",
    "\n",
    "# Map predicted clusters to actual labels\n",
    "labels = np.zeros_like(y_pred)\n",
    "for i in range(3):  # Number of clusters\n",
    "    mask = (y_pred == i)\n",
    "    labels[mask] = mode(y_train[mask])[0]\n",
    "\n",
    "# Calculate accuracy\n",
    "accuracy = accuracy_score(y_train, labels)\n",
    "\n",
    "# Print the evaluation results\n",
    "print(\"Accuracy:\", accuracy)\n",
    "\n",
    "# Plotting the ground truth clusters\n",
    "plt.figure(figsize=(14, 6))\n",
    "plt.subplot(1, 2, 1)\n",
    "for i in range(3):\n",
    "    plt.scatter(x_train[y_train == i, 0], x_train[y_train == i, 1], label=label2name[i], s=50)\n",
    "plt.title(\"Ground Truth\")\n",
    "plt.legend()\n",
    "\n",
    "# Plotting the predicted clusters\n",
    "plt.subplot(1, 2, 2)\n",
    "for i in range(3):\n",
    "    plt.scatter(x_train[labels == i, 0], x_train[labels == i, 1], label=label2name[i], s=50)\n",
    "plt.title(\"Predictions\")\n",
    "plt.legend()\n",
    "\n",
    "plt.show()\n"
   ]
  },
  {
   "cell_type": "markdown",
   "id": "e75707ad",
   "metadata": {
    "papermill": {
     "duration": 0.005222,
     "end_time": "2023-06-21T23:23:23.182349",
     "exception": false,
     "start_time": "2023-06-21T23:23:23.177127",
     "status": "completed"
    },
    "tags": []
   },
   "source": [
    "# Different Clustering Algorithms\n",
    "There are many clustering algorithm avaiable. You can check them out [here](https://scikit-learn.org/stable/modules/clustering.html)\n",
    "\n",
    "<img src=\"https://scikit-learn.org/stable/_images/sphx_glr_plot_cluster_comparison_001.png\" width=1200>"
   ]
  }
 ],
 "metadata": {
  "kernelspec": {
   "display_name": "Python 3",
   "language": "python",
   "name": "python3"
  },
  "language_info": {
   "codemirror_mode": {
    "name": "ipython",
    "version": 3
   },
   "file_extension": ".py",
   "mimetype": "text/x-python",
   "name": "python",
   "nbconvert_exporter": "python",
   "pygments_lexer": "ipython3",
   "version": "3.10.10"
  },
  "papermill": {
   "default_parameters": {},
   "duration": 13.855845,
   "end_time": "2023-06-21T23:23:24.110072",
   "environment_variables": {},
   "exception": null,
   "input_path": "__notebook__.ipynb",
   "output_path": "__notebook__.ipynb",
   "parameters": {},
   "start_time": "2023-06-21T23:23:10.254227",
   "version": "2.4.0"
  }
 },
 "nbformat": 4,
 "nbformat_minor": 5
}
