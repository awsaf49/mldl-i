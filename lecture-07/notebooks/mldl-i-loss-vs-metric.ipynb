{
 "cells": [
  {
   "cell_type": "markdown",
   "id": "e84e5a10",
   "metadata": {
    "papermill": {
     "duration": 0.003502,
     "end_time": "2023-07-27T04:53:52.634066",
     "exception": false,
     "start_time": "2023-07-27T04:53:52.630564",
     "status": "completed"
    },
    "tags": []
   },
   "source": [
    "# Case 1: MSE\n",
    "Is this differentiable or not?"
   ]
  },
  {
   "cell_type": "code",
   "execution_count": 1,
   "id": "c96ad7c3",
   "metadata": {
    "_cell_guid": "b1076dfc-b9ad-4769-8c92-a6c4dae69d19",
    "_kg_hide-input": true,
    "_kg_hide-output": true,
    "_uuid": "8f2839f25d086af736a60e9eeb907d3b93b6e0e5",
    "execution": {
     "iopub.execute_input": "2023-07-27T04:53:52.642982Z",
     "iopub.status.busy": "2023-07-27T04:53:52.642561Z",
     "iopub.status.idle": "2023-07-27T04:54:02.249533Z",
     "shell.execute_reply": "2023-07-27T04:54:02.248000Z"
    },
    "papermill": {
     "duration": 9.614695,
     "end_time": "2023-07-27T04:54:02.252448",
     "exception": false,
     "start_time": "2023-07-27T04:53:52.637753",
     "status": "completed"
    },
    "tags": []
   },
   "outputs": [
    {
     "name": "stderr",
     "output_type": "stream",
     "text": [
      "/opt/conda/lib/python3.10/site-packages/scipy/__init__.py:146: UserWarning: A NumPy version >=1.16.5 and <1.23.0 is required for this version of SciPy (detected version 1.23.5\n",
      "  warnings.warn(f\"A NumPy version >={np_minversion} and <{np_maxversion}\"\n",
      "/opt/conda/lib/python3.10/site-packages/tensorflow_io/python/ops/__init__.py:98: UserWarning: unable to load libtensorflow_io_plugins.so: unable to open file: libtensorflow_io_plugins.so, from paths: ['/opt/conda/lib/python3.10/site-packages/tensorflow_io/python/ops/libtensorflow_io_plugins.so']\n",
      "caused by: ['/opt/conda/lib/python3.10/site-packages/tensorflow_io/python/ops/libtensorflow_io_plugins.so: undefined symbol: _ZN3tsl6StatusC1EN10tensorflow5error4CodeESt17basic_string_viewIcSt11char_traitsIcEENS_14SourceLocationE']\n",
      "  warnings.warn(f\"unable to load libtensorflow_io_plugins.so: {e}\")\n",
      "/opt/conda/lib/python3.10/site-packages/tensorflow_io/python/ops/__init__.py:104: UserWarning: file system plugins are not loaded: unable to open file: libtensorflow_io.so, from paths: ['/opt/conda/lib/python3.10/site-packages/tensorflow_io/python/ops/libtensorflow_io.so']\n",
      "caused by: ['/opt/conda/lib/python3.10/site-packages/tensorflow_io/python/ops/libtensorflow_io.so: undefined symbol: _ZTVN10tensorflow13GcsFileSystemE']\n",
      "  warnings.warn(f\"file system plugins are not loaded: {e}\")\n"
     ]
    },
    {
     "data": {
      "text/plain": [
       "[None, None, None, None]"
      ]
     },
     "execution_count": 1,
     "metadata": {},
     "output_type": "execute_result"
    }
   ],
   "source": [
    "import tensorflow as tf\n",
    "from tensorflow.keras import layers, losses\n",
    "\n",
    "# Define a simple sequential model\n",
    "def create_model():\n",
    "    model = tf.keras.models.Sequential([\n",
    "        layers.Input(shape=(5,)),\n",
    "        layers.Dense(3, activation='relu'),\n",
    "        layers.Dense(1, activation='sigmoid')\n",
    "    ])\n",
    "\n",
    "    return model\n",
    "\n",
    "# Create a simple model\n",
    "model = create_model()\n",
    "\n",
    "# Generate some random binary classification data\n",
    "x = tf.random.uniform((10, 5))\n",
    "y = tf.random.uniform((10,), minval=0, maxval=2, dtype=tf.int32)\n",
    "\n",
    "# Calculate MAE loss\n",
    "def loss(y_true, y_pred):\n",
    "    y_true = tf.cast(y_true, tf.float32)\n",
    "    y_pred = tf.cast(y_pred, tf.float32)\n",
    "    return tf.reduce_sum(tf.abs(y_true - y_pred))\n",
    "\n",
    "# Now let's try to take derivative of loss\n",
    "with tf.GradientTape() as tape:\n",
    "    tape.watch(model.trainable_variables)\n",
    "    y_pred = model(x, training=True)\n",
    "    y_pred = tf.round(y_pred)\n",
    "    acc = loss(y, y_pred) # accuracy(y, y_pred)\n",
    "\n",
    "grads = tape.gradient(acc, model.trainable_variables)\n",
    "grads"
   ]
  },
  {
   "cell_type": "markdown",
   "id": "70f844aa",
   "metadata": {
    "_kg_hide-input": true,
    "papermill": {
     "duration": 0.002806,
     "end_time": "2023-07-27T04:54:02.258558",
     "exception": false,
     "start_time": "2023-07-27T04:54:02.255752",
     "status": "completed"
    },
    "tags": []
   },
   "source": [
    "Ans: Non-Differentiable as `rounding` or `thresholding` is not differentiable due to **discountinuity**"
   ]
  },
  {
   "cell_type": "markdown",
   "id": "f4808884",
   "metadata": {
    "papermill": {
     "duration": 0.002639,
     "end_time": "2023-07-27T04:54:02.264103",
     "exception": false,
     "start_time": "2023-07-27T04:54:02.261464",
     "status": "completed"
    },
    "tags": []
   },
   "source": [
    "# Case 2: Accuracy"
   ]
  },
  {
   "cell_type": "code",
   "execution_count": 2,
   "id": "0c5c0ec2",
   "metadata": {
    "_kg_hide-input": true,
    "_kg_hide-output": true,
    "execution": {
     "iopub.execute_input": "2023-07-27T04:54:02.272149Z",
     "iopub.status.busy": "2023-07-27T04:54:02.271122Z",
     "iopub.status.idle": "2023-07-27T04:54:02.344748Z",
     "shell.execute_reply": "2023-07-27T04:54:02.343308Z"
    },
    "papermill": {
     "duration": 0.080467,
     "end_time": "2023-07-27T04:54:02.347321",
     "exception": false,
     "start_time": "2023-07-27T04:54:02.266854",
     "status": "completed"
    },
    "tags": []
   },
   "outputs": [
    {
     "data": {
      "text/plain": [
       "[<tf.Tensor: shape=(5, 3), dtype=float32, numpy=\n",
       " array([[0., 0., 0.],\n",
       "        [0., 0., 0.],\n",
       "        [0., 0., 0.],\n",
       "        [0., 0., 0.],\n",
       "        [0., 0., 0.]], dtype=float32)>,\n",
       " <tf.Tensor: shape=(3,), dtype=float32, numpy=array([0., 0., 0.], dtype=float32)>,\n",
       " <tf.Tensor: shape=(3, 1), dtype=float32, numpy=\n",
       " array([[0.],\n",
       "        [0.],\n",
       "        [0.]], dtype=float32)>,\n",
       " <tf.Tensor: shape=(1,), dtype=float32, numpy=array([0.], dtype=float32)>]"
      ]
     },
     "execution_count": 2,
     "metadata": {},
     "output_type": "execute_result"
    }
   ],
   "source": [
    "import tensorflow as tf\n",
    "from tensorflow.keras import layers, losses\n",
    "\n",
    "# Define a simple sequential model\n",
    "def create_model():\n",
    "    model = tf.keras.models.Sequential([\n",
    "        layers.Input(shape=(5,)),\n",
    "        layers.Dense(3, activation='relu'),\n",
    "        layers.Dense(1, activation='sigmoid')\n",
    "    ])\n",
    "\n",
    "    return model\n",
    "\n",
    "# Create a simple model\n",
    "model = create_model()\n",
    "\n",
    "# Generate some random binary classification data\n",
    "x = tf.random.uniform((10, 5))\n",
    "y = tf.random.uniform((10,), minval=0, maxval=2, dtype=tf.int32)\n",
    "\n",
    "# Define a simple accuracy calculation function\n",
    "def accuracy(y_true, y_pred):\n",
    "    y_true = tf.cast(y_true, tf.float32)\n",
    "    y_pred = tf.cast(y_pred, tf.float32)\n",
    "    accuracy = tf.reduce_mean(y_true*y_pred) + tf.reduce_mean(1. - y_true*y_pred)\n",
    "    return accuracy\n",
    "\n",
    "# Now let's try to take derivative of accuracy\n",
    "with tf.GradientTape() as tape:\n",
    "    tape.watch(model.trainable_variables)\n",
    "    y_pred = model(x, training=True)\n",
    "#     y_pred = tf.round(y_pred)\n",
    "    acc = accuracy(y, y_pred) # accuracy(y, y_pred)\n",
    "\n",
    "# This will produce `None` gradient as `rounding` or `thresholding` is not differentiable\n",
    "grads = tape.gradient(acc, model.trainable_variables)\n",
    "grads\n"
   ]
  },
  {
   "cell_type": "markdown",
   "id": "fd29d753",
   "metadata": {
    "_kg_hide-input": true,
    "papermill": {
     "duration": 0.002771,
     "end_time": "2023-07-27T04:54:02.353258",
     "exception": false,
     "start_time": "2023-07-27T04:54:02.350487",
     "status": "completed"
    },
    "tags": []
   },
   "source": [
    "Ans: Differentiable as no `rounding` or `thresholding`."
   ]
  },
  {
   "cell_type": "markdown",
   "id": "08cf9abb",
   "metadata": {
    "papermill": {
     "duration": 0.002699,
     "end_time": "2023-07-27T04:54:02.358902",
     "exception": false,
     "start_time": "2023-07-27T04:54:02.356203",
     "status": "completed"
    },
    "tags": []
   },
   "source": [
    "# Is it Even Accuracy ? :/"
   ]
  },
  {
   "cell_type": "code",
   "execution_count": 3,
   "id": "ba0f2393",
   "metadata": {
    "_kg_hide-input": true,
    "execution": {
     "iopub.execute_input": "2023-07-27T04:54:02.366731Z",
     "iopub.status.busy": "2023-07-27T04:54:02.366366Z",
     "iopub.status.idle": "2023-07-27T04:54:02.376552Z",
     "shell.execute_reply": "2023-07-27T04:54:02.375633Z"
    },
    "papermill": {
     "duration": 0.016571,
     "end_time": "2023-07-27T04:54:02.378473",
     "exception": false,
     "start_time": "2023-07-27T04:54:02.361902",
     "status": "completed"
    },
    "tags": []
   },
   "outputs": [
    {
     "name": "stdout",
     "output_type": "stream",
     "text": [
      "Accuracy: 0.79999995\n"
     ]
    }
   ],
   "source": [
    "import tensorflow as tf\n",
    "\n",
    "# Create some binary data\n",
    "y_true = tf.constant([0, 1, 1, 0, 1, 0], dtype=tf.float32)\n",
    "y_pred = tf.constant([0.1, 0.9, 0.7, 0.3, 0.8, 0.2], dtype=tf.float32)\n",
    "\n",
    "# Convert the probabilities into binary predictions\n",
    "# y_pred = tf.round(y_pred)\n",
    "\n",
    "# Define a simple accuracy calculation function\n",
    "def accuracy(y_true, y_pred):\n",
    "    y_true = tf.cast(y_true, tf.float32)\n",
    "    y_pred = tf.cast(y_pred, tf.float32)\n",
    "    accuracy = tf.reduce_mean(y_true*y_pred) + tf.reduce_mean((1. - y_true)*(1. -y_pred))\n",
    "    return accuracy\n",
    "\n",
    "# Calculate accuracy\n",
    "acc = accuracy(y_true, y_pred)\n",
    "\n",
    "print(\"Accuracy:\", acc.numpy())\n"
   ]
  }
 ],
 "metadata": {
  "kernelspec": {
   "display_name": "Python 3",
   "language": "python",
   "name": "python3"
  },
  "language_info": {
   "codemirror_mode": {
    "name": "ipython",
    "version": 3
   },
   "file_extension": ".py",
   "mimetype": "text/x-python",
   "name": "python",
   "nbconvert_exporter": "python",
   "pygments_lexer": "ipython3",
   "version": "3.10.12"
  },
  "papermill": {
   "default_parameters": {},
   "duration": 23.414993,
   "end_time": "2023-07-27T04:54:04.963917",
   "environment_variables": {},
   "exception": null,
   "input_path": "__notebook__.ipynb",
   "output_path": "__notebook__.ipynb",
   "parameters": {},
   "start_time": "2023-07-27T04:53:41.548924",
   "version": "2.4.0"
  }
 },
 "nbformat": 4,
 "nbformat_minor": 5
}
