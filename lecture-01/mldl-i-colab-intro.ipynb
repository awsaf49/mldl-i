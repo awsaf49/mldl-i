{
  "nbformat": 4,
  "nbformat_minor": 0,
  "metadata": {
    "colab": {
      "provenance": [],
      "collapsed_sections": [
        "diMFLrD2cBql",
        "ZxfKqFbAYeHL",
        "Fo0EXwt2aCIb",
        "YE_YIL4QaIhd"
      ]
    },
    "kernelspec": {
      "name": "python3",
      "display_name": "Python 3"
    },
    "language_info": {
      "name": "python"
    }
  },
  "cells": [
    {
      "cell_type": "markdown",
      "source": [
        "# Lecture - 01\n"
      ],
      "metadata": {
        "id": "diMFLrD2cBql"
      }
    },
    {
      "cell_type": "markdown",
      "source": [
        "## LaTex\n",
        "$\n",
        "A = B \\odot C\n",
        "$"
      ],
      "metadata": {
        "id": "qnxqWYCYi8B-"
      }
    },
    {
      "cell_type": "markdown",
      "source": [
        "## Table\n",
        "\n",
        "| Column 1 | Column 2 | Column 3 |\n",
        "|----------|----------|----------|\n",
        "| Row 1    | Row 1    | Row 1    |\n",
        "| Row 2    | Row 2    | Row 2    |\n",
        "| Row 3    | Row 3    | Row 3    |\n"
      ],
      "metadata": {
        "id": "NIlVbmrJi-9K"
      }
    },
    {
      "cell_type": "markdown",
      "source": [
        "## Image\n",
        "\n",
        "<img src=\"https://images.all-free-download.com/images/graphicwebp/cat_small_cat_cats_eye_214515.webp\" height=\"300\">"
      ],
      "metadata": {
        "id": "hhtCeTbxjBSj"
      }
    },
    {
      "cell_type": "markdown",
      "source": [
        "# Reference,\n",
        "* [Markdown Guide](https://www.markdownguide.org/getting-started/)"
      ],
      "metadata": {
        "id": "EB7OUGbNjDP7"
      }
    },
    {
      "cell_type": "markdown",
      "source": [
        "# Mount Drive"
      ],
      "metadata": {
        "id": "ZxfKqFbAYeHL"
      }
    },
    {
      "cell_type": "code",
      "source": [
        "from google.colab import drive\n",
        "drive.mount('/content/drive')"
      ],
      "metadata": {
        "colab": {
          "base_uri": "https://localhost:8080/"
        },
        "id": "7QLlhw8JWwjR",
        "outputId": "94d7c049-91e2-47b3-a465-951d482e608b"
      },
      "execution_count": null,
      "outputs": [
        {
          "output_type": "stream",
          "name": "stdout",
          "text": [
            "Mounted at /content/drive\n"
          ]
        }
      ]
    },
    {
      "cell_type": "markdown",
      "source": [
        "# I/O File"
      ],
      "metadata": {
        "id": "LK8Tr2I3ZXLz"
      }
    },
    {
      "cell_type": "markdown",
      "source": [
        "# Drive $→$ Colab"
      ],
      "metadata": {
        "id": "Fo0EXwt2aCIb"
      }
    },
    {
      "cell_type": "code",
      "source": [
        "!cp /content/drive/MyDrive/mnist_train_small.csv /content"
      ],
      "metadata": {
        "id": "pIsfFu0UZaYT"
      },
      "execution_count": null,
      "outputs": []
    },
    {
      "cell_type": "code",
      "source": [
        "import shutil\n",
        "shutil.copy('/content/drive/MyDrive/mnist_train_small.csv', '/content') # drive to colab current directory"
      ],
      "metadata": {
        "colab": {
          "base_uri": "https://localhost:8080/",
          "height": 35
        },
        "id": "5aH2PjD3ZpMr",
        "outputId": "7d3e44e3-e62e-4f73-cb46-823420665bb2"
      },
      "execution_count": 3,
      "outputs": [
        {
          "output_type": "execute_result",
          "data": {
            "text/plain": [
              "'/content/mnist_train_small.csv'"
            ],
            "application/vnd.google.colaboratory.intrinsic+json": {
              "type": "string"
            }
          },
          "metadata": {},
          "execution_count": 3
        }
      ]
    },
    {
      "cell_type": "markdown",
      "source": [
        "# Colab $\\rightarrow$ Drive"
      ],
      "metadata": {
        "id": "YE_YIL4QaIhd"
      }
    },
    {
      "cell_type": "code",
      "source": [
        "import shutil\n",
        "shutil.copy('/content/mnist_train_small.csv', '/content/drive/MyDrive/') # colab to drive"
      ],
      "metadata": {
        "colab": {
          "base_uri": "https://localhost:8080/",
          "height": 35
        },
        "id": "3Kz5t6SSaM7V",
        "outputId": "c99f27cd-b09a-4575-dbc4-6cd7412c4e5a"
      },
      "execution_count": 4,
      "outputs": [
        {
          "output_type": "execute_result",
          "data": {
            "text/plain": [
              "'/content/drive/MyDrive/mnist_train_small.csv'"
            ],
            "application/vnd.google.colaboratory.intrinsic+json": {
              "type": "string"
            }
          },
          "metadata": {},
          "execution_count": 4
        }
      ]
    },
    {
      "cell_type": "markdown",
      "source": [
        "# Remove file"
      ],
      "metadata": {
        "id": "zcWHpxJAaY5j"
      }
    },
    {
      "cell_type": "code",
      "source": [
        "!rm /content/mnist_train_small.csv"
      ],
      "metadata": {
        "id": "gT5b7BVZaady"
      },
      "execution_count": null,
      "outputs": []
    },
    {
      "cell_type": "code",
      "source": [
        "import os\n",
        "os.remove('/content/mnist_train_small.csv')"
      ],
      "metadata": {
        "id": "O1eh3Hn0ac7b"
      },
      "execution_count": null,
      "outputs": []
    },
    {
      "cell_type": "markdown",
      "source": [
        "# Basic Linux Command\n",
        "\n",
        "* `pwd` (Print Working Directory):\n",
        "The \"pwd\" command is used to display the current working directory. It shows you the full path of the directory you are currently in.\n",
        "\n",
        "* `ls` (List):\n",
        "The \"ls\" command is used to list the files and directories in the current directory. By default, it displays the names of the files and directories in a simple list format.\n",
        "\n",
        "* `cd` (Change Directory):\n",
        "The \"cd\" command is used to change the current directory. You can use it to navigate to a different directory. For example, \"cd Documents\" will take you to the \"Documents\" directory if it exists.\n",
        "\n",
        "* `mkdir` (Make Directory):\n",
        "The \"mkdir\" command is used to create a new directory. You need to provide a name for the directory as an argument. For example, \"mkdir my_folder\" will create a new directory named \"my_folder\" in the current directory.\n",
        "\n",
        "* `cp` (Copy):\n",
        "The \"cp\" command is used to copy files and directories. You need to specify the source file/directory and the destination where you want to copy it. For example, \"cp file.txt destination/\" will copy the file \"file.txt\" to the \"destination\" directory.\n",
        "\n",
        "* `mv` (Move):\n",
        "The \"mv\" command is used to move or rename files and directories. It can be used to move files/directories to a different location or to simply rename them. For example, \"mv file.txt destination/\" will move the file \"file.txt\" to the \"destination\" directory.\n",
        "\n",
        "* `rm` (Remove):\n",
        "The \"rm\" command is used to remove files and directories. It permanently deletes the specified file or directory. Use it with caution as deleted files cannot be easily recovered. For example, \"rm file.txt\" will delete the file \"file.txt\" from the current directory.\n",
        "\n",
        "* `echo`:\n",
        "The \"echo\" command is used to display text or variables on the command line. It is often used in shell scripts or to print messages. For example, \"echo Hello, world!\" will display the message \"Hello, world!\" on the terminal."
      ],
      "metadata": {
        "id": "g4u3kBgxX4Ky"
      }
    },
    {
      "cell_type": "markdown",
      "source": [
        "# Features of **Colab**\n",
        "1. Runtime only `~9` hours\n",
        "2. Disk is temporary, will not be saved.\n",
        "3. GPU is `T4` which is slower.\n",
        "4. Data can be added,\n",
        "  a. Downloading\n",
        "  b. From Drive\n",
        "5. No background Execution\n",
        "6. No community\n",
        "\n",
        "# Features of **Kaggle**\n",
        "1. Runtime `12` hours at a time and `30` hours per week.\n",
        "2. `15GB` output disk\n",
        "3. No paid Subscription (No `A100` or `V100`)\n",
        "4. Dataset can be added easily and read/write speed is faster\n",
        "5. Community, Competition\n",
        "6. Private Dataset\n",
        "\n"
      ],
      "metadata": {
        "id": "DTvrDISWbWLN"
      }
    }
  ]
}