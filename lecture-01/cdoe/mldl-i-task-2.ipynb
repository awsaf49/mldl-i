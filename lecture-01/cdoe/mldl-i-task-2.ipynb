{
 "cells": [
  {
   "cell_type": "markdown",
   "id": "576afe4b",
   "metadata": {
    "papermill": {
     "duration": 0.007479,
     "end_time": "2023-06-08T15:21:01.065625",
     "exception": false,
     "start_time": "2023-06-08T15:21:01.058146",
     "status": "completed"
    },
    "tags": []
   },
   "source": [
    "# Step1 - Imports Libraries"
   ]
  },
  {
   "cell_type": "code",
   "execution_count": 1,
   "id": "a9942d11",
   "metadata": {
    "execution": {
     "iopub.execute_input": "2023-06-08T15:21:01.080071Z",
     "iopub.status.busy": "2023-06-08T15:21:01.078727Z",
     "iopub.status.idle": "2023-06-08T15:21:02.293772Z",
     "shell.execute_reply": "2023-06-08T15:21:02.292165Z"
    },
    "papermill": {
     "duration": 1.225607,
     "end_time": "2023-06-08T15:21:02.297216",
     "exception": false,
     "start_time": "2023-06-08T15:21:01.071609",
     "status": "completed"
    },
    "tags": []
   },
   "outputs": [],
   "source": [
    "import numpy as np\n",
    "import pandas as pd\n",
    "import os\n",
    "import sklearn"
   ]
  },
  {
   "cell_type": "markdown",
   "id": "682aca37",
   "metadata": {
    "papermill": {
     "duration": 0.005247,
     "end_time": "2023-06-08T15:21:02.308257",
     "exception": false,
     "start_time": "2023-06-08T15:21:02.303010",
     "status": "completed"
    },
    "tags": []
   },
   "source": [
    "# Step2 - Load dataset"
   ]
  },
  {
   "cell_type": "code",
   "execution_count": 2,
   "id": "08d18186",
   "metadata": {
    "execution": {
     "iopub.execute_input": "2023-06-08T15:21:02.321225Z",
     "iopub.status.busy": "2023-06-08T15:21:02.320792Z",
     "iopub.status.idle": "2023-06-08T15:21:02.430372Z",
     "shell.execute_reply": "2023-06-08T15:21:02.421703Z"
    },
    "papermill": {
     "duration": 0.120412,
     "end_time": "2023-06-08T15:21:02.434003",
     "exception": false,
     "start_time": "2023-06-08T15:21:02.313591",
     "status": "completed"
    },
    "tags": []
   },
   "outputs": [
    {
     "name": "stdout",
     "output_type": "stream",
     "text": [
      "Train:\n"
     ]
    },
    {
     "data": {
      "text/html": [
       "<div>\n",
       "<style scoped>\n",
       "    .dataframe tbody tr th:only-of-type {\n",
       "        vertical-align: middle;\n",
       "    }\n",
       "\n",
       "    .dataframe tbody tr th {\n",
       "        vertical-align: top;\n",
       "    }\n",
       "\n",
       "    .dataframe thead th {\n",
       "        text-align: right;\n",
       "    }\n",
       "</style>\n",
       "<table border=\"1\" class=\"dataframe\">\n",
       "  <thead>\n",
       "    <tr style=\"text-align: right;\">\n",
       "      <th></th>\n",
       "      <th>PassengerId</th>\n",
       "      <th>Survived</th>\n",
       "      <th>Pclass</th>\n",
       "      <th>Name</th>\n",
       "      <th>Sex</th>\n",
       "      <th>Age</th>\n",
       "      <th>SibSp</th>\n",
       "      <th>Parch</th>\n",
       "      <th>Ticket</th>\n",
       "      <th>Fare</th>\n",
       "      <th>Cabin</th>\n",
       "      <th>Embarked</th>\n",
       "    </tr>\n",
       "  </thead>\n",
       "  <tbody>\n",
       "    <tr>\n",
       "      <th>0</th>\n",
       "      <td>1</td>\n",
       "      <td>0</td>\n",
       "      <td>3</td>\n",
       "      <td>Braund, Mr. Owen Harris</td>\n",
       "      <td>male</td>\n",
       "      <td>22.0</td>\n",
       "      <td>1</td>\n",
       "      <td>0</td>\n",
       "      <td>A/5 21171</td>\n",
       "      <td>7.2500</td>\n",
       "      <td>NaN</td>\n",
       "      <td>S</td>\n",
       "    </tr>\n",
       "    <tr>\n",
       "      <th>1</th>\n",
       "      <td>2</td>\n",
       "      <td>1</td>\n",
       "      <td>1</td>\n",
       "      <td>Cumings, Mrs. John Bradley (Florence Briggs Th...</td>\n",
       "      <td>female</td>\n",
       "      <td>38.0</td>\n",
       "      <td>1</td>\n",
       "      <td>0</td>\n",
       "      <td>PC 17599</td>\n",
       "      <td>71.2833</td>\n",
       "      <td>C85</td>\n",
       "      <td>C</td>\n",
       "    </tr>\n",
       "  </tbody>\n",
       "</table>\n",
       "</div>"
      ],
      "text/plain": [
       "   PassengerId  Survived  Pclass  \\\n",
       "0            1         0       3   \n",
       "1            2         1       1   \n",
       "\n",
       "                                                Name     Sex   Age  SibSp  \\\n",
       "0                            Braund, Mr. Owen Harris    male  22.0      1   \n",
       "1  Cumings, Mrs. John Bradley (Florence Briggs Th...  female  38.0      1   \n",
       "\n",
       "   Parch     Ticket     Fare Cabin Embarked  \n",
       "0      0  A/5 21171   7.2500   NaN        S  \n",
       "1      0   PC 17599  71.2833   C85        C  "
      ]
     },
     "metadata": {},
     "output_type": "display_data"
    },
    {
     "name": "stdout",
     "output_type": "stream",
     "text": [
      "Test:\n"
     ]
    },
    {
     "data": {
      "text/html": [
       "<div>\n",
       "<style scoped>\n",
       "    .dataframe tbody tr th:only-of-type {\n",
       "        vertical-align: middle;\n",
       "    }\n",
       "\n",
       "    .dataframe tbody tr th {\n",
       "        vertical-align: top;\n",
       "    }\n",
       "\n",
       "    .dataframe thead th {\n",
       "        text-align: right;\n",
       "    }\n",
       "</style>\n",
       "<table border=\"1\" class=\"dataframe\">\n",
       "  <thead>\n",
       "    <tr style=\"text-align: right;\">\n",
       "      <th></th>\n",
       "      <th>PassengerId</th>\n",
       "      <th>Pclass</th>\n",
       "      <th>Name</th>\n",
       "      <th>Sex</th>\n",
       "      <th>Age</th>\n",
       "      <th>SibSp</th>\n",
       "      <th>Parch</th>\n",
       "      <th>Ticket</th>\n",
       "      <th>Fare</th>\n",
       "      <th>Cabin</th>\n",
       "      <th>Embarked</th>\n",
       "    </tr>\n",
       "  </thead>\n",
       "  <tbody>\n",
       "    <tr>\n",
       "      <th>0</th>\n",
       "      <td>892</td>\n",
       "      <td>3</td>\n",
       "      <td>Kelly, Mr. James</td>\n",
       "      <td>male</td>\n",
       "      <td>34.5</td>\n",
       "      <td>0</td>\n",
       "      <td>0</td>\n",
       "      <td>330911</td>\n",
       "      <td>7.8292</td>\n",
       "      <td>NaN</td>\n",
       "      <td>Q</td>\n",
       "    </tr>\n",
       "    <tr>\n",
       "      <th>1</th>\n",
       "      <td>893</td>\n",
       "      <td>3</td>\n",
       "      <td>Wilkes, Mrs. James (Ellen Needs)</td>\n",
       "      <td>female</td>\n",
       "      <td>47.0</td>\n",
       "      <td>1</td>\n",
       "      <td>0</td>\n",
       "      <td>363272</td>\n",
       "      <td>7.0000</td>\n",
       "      <td>NaN</td>\n",
       "      <td>S</td>\n",
       "    </tr>\n",
       "  </tbody>\n",
       "</table>\n",
       "</div>"
      ],
      "text/plain": [
       "   PassengerId  Pclass                              Name     Sex   Age  SibSp  \\\n",
       "0          892       3                  Kelly, Mr. James    male  34.5      0   \n",
       "1          893       3  Wilkes, Mrs. James (Ellen Needs)  female  47.0      1   \n",
       "\n",
       "   Parch  Ticket    Fare Cabin Embarked  \n",
       "0      0  330911  7.8292   NaN        Q  \n",
       "1      0  363272  7.0000   NaN        S  "
      ]
     },
     "metadata": {},
     "output_type": "display_data"
    }
   ],
   "source": [
    "df = pd.read_csv(\"/kaggle/input/titanic/train.csv\")\n",
    "# Fill in any missing values in the data with past values\n",
    "df = df.ffill()\n",
    "print(\"Train:\")\n",
    "display(df.head(2))\n",
    "\n",
    "test_df = pd.read_csv(\"/kaggle/input/titanic/test.csv\")\n",
    "# Fill in any missing values in the data with past values\n",
    "test_df = test_df.ffill()\n",
    "print(\"Test:\")\n",
    "display(test_df.head(2))"
   ]
  },
  {
   "cell_type": "markdown",
   "id": "ca38bdc7",
   "metadata": {
    "papermill": {
     "duration": 0.006161,
     "end_time": "2023-06-08T15:21:02.447034",
     "exception": false,
     "start_time": "2023-06-08T15:21:02.440873",
     "status": "completed"
    },
    "tags": []
   },
   "source": [
    "# Step3 - Prepare Data"
   ]
  },
  {
   "cell_type": "code",
   "execution_count": 3,
   "id": "08dc7b8b",
   "metadata": {
    "execution": {
     "iopub.execute_input": "2023-06-08T15:21:02.462172Z",
     "iopub.status.busy": "2023-06-08T15:21:02.461710Z",
     "iopub.status.idle": "2023-06-08T15:21:02.574647Z",
     "shell.execute_reply": "2023-06-08T15:21:02.573210Z"
    },
    "papermill": {
     "duration": 0.124217,
     "end_time": "2023-06-08T15:21:02.577682",
     "exception": false,
     "start_time": "2023-06-08T15:21:02.453465",
     "status": "completed"
    },
    "tags": []
   },
   "outputs": [
    {
     "name": "stdout",
     "output_type": "stream",
     "text": [
      "Train:\n"
     ]
    },
    {
     "data": {
      "text/html": [
       "<div>\n",
       "<style scoped>\n",
       "    .dataframe tbody tr th:only-of-type {\n",
       "        vertical-align: middle;\n",
       "    }\n",
       "\n",
       "    .dataframe tbody tr th {\n",
       "        vertical-align: top;\n",
       "    }\n",
       "\n",
       "    .dataframe thead th {\n",
       "        text-align: right;\n",
       "    }\n",
       "</style>\n",
       "<table border=\"1\" class=\"dataframe\">\n",
       "  <thead>\n",
       "    <tr style=\"text-align: right;\">\n",
       "      <th></th>\n",
       "      <th>Pclass</th>\n",
       "      <th>Sex</th>\n",
       "      <th>Age</th>\n",
       "      <th>SibSp</th>\n",
       "      <th>Parch</th>\n",
       "      <th>Fare</th>\n",
       "      <th>Embarked</th>\n",
       "      <th>Survived</th>\n",
       "    </tr>\n",
       "  </thead>\n",
       "  <tbody>\n",
       "    <tr>\n",
       "      <th>0</th>\n",
       "      <td>0.827377</td>\n",
       "      <td>-0.737695</td>\n",
       "      <td>-0.521198</td>\n",
       "      <td>0.432793</td>\n",
       "      <td>-0.473674</td>\n",
       "      <td>-0.502445</td>\n",
       "      <td>-0.571898</td>\n",
       "      <td>0</td>\n",
       "    </tr>\n",
       "    <tr>\n",
       "      <th>1</th>\n",
       "      <td>-1.566107</td>\n",
       "      <td>1.355574</td>\n",
       "      <td>0.578729</td>\n",
       "      <td>0.432793</td>\n",
       "      <td>-0.473674</td>\n",
       "      <td>0.786845</td>\n",
       "      <td>0.995982</td>\n",
       "      <td>1</td>\n",
       "    </tr>\n",
       "  </tbody>\n",
       "</table>\n",
       "</div>"
      ],
      "text/plain": [
       "     Pclass       Sex       Age     SibSp     Parch      Fare  Embarked  \\\n",
       "0  0.827377 -0.737695 -0.521198  0.432793 -0.473674 -0.502445 -0.571898   \n",
       "1 -1.566107  1.355574  0.578729  0.432793 -0.473674  0.786845  0.995982   \n",
       "\n",
       "   Survived  \n",
       "0         0  \n",
       "1         1  "
      ]
     },
     "metadata": {},
     "output_type": "display_data"
    },
    {
     "name": "stdout",
     "output_type": "stream",
     "text": [
      "Test:\n"
     ]
    },
    {
     "data": {
      "text/html": [
       "<div>\n",
       "<style scoped>\n",
       "    .dataframe tbody tr th:only-of-type {\n",
       "        vertical-align: middle;\n",
       "    }\n",
       "\n",
       "    .dataframe tbody tr th {\n",
       "        vertical-align: top;\n",
       "    }\n",
       "\n",
       "    .dataframe thead th {\n",
       "        text-align: right;\n",
       "    }\n",
       "</style>\n",
       "<table border=\"1\" class=\"dataframe\">\n",
       "  <thead>\n",
       "    <tr style=\"text-align: right;\">\n",
       "      <th></th>\n",
       "      <th>Pclass</th>\n",
       "      <th>Sex</th>\n",
       "      <th>Age</th>\n",
       "      <th>SibSp</th>\n",
       "      <th>Parch</th>\n",
       "      <th>Fare</th>\n",
       "      <th>Embarked</th>\n",
       "    </tr>\n",
       "  </thead>\n",
       "  <tbody>\n",
       "    <tr>\n",
       "      <th>0</th>\n",
       "      <td>0.827377</td>\n",
       "      <td>-0.737695</td>\n",
       "      <td>0.338120</td>\n",
       "      <td>-0.474545</td>\n",
       "      <td>-0.473674</td>\n",
       "      <td>-0.490783</td>\n",
       "      <td>2.563862</td>\n",
       "    </tr>\n",
       "    <tr>\n",
       "      <th>1</th>\n",
       "      <td>0.827377</td>\n",
       "      <td>1.355574</td>\n",
       "      <td>1.197438</td>\n",
       "      <td>0.432793</td>\n",
       "      <td>-0.473674</td>\n",
       "      <td>-0.507479</td>\n",
       "      <td>-0.571898</td>\n",
       "    </tr>\n",
       "  </tbody>\n",
       "</table>\n",
       "</div>"
      ],
      "text/plain": [
       "     Pclass       Sex       Age     SibSp     Parch      Fare  Embarked\n",
       "0  0.827377 -0.737695  0.338120 -0.474545 -0.473674 -0.490783  2.563862\n",
       "1  0.827377  1.355574  1.197438  0.432793 -0.473674 -0.507479 -0.571898"
      ]
     },
     "metadata": {},
     "output_type": "display_data"
    }
   ],
   "source": [
    "# Feature selection\n",
    "FEATURES = ['Pclass', 'Sex', 'Age', 'SibSp','Parch', 'Fare', 'Embarked']\n",
    "TARGET = ['Survived']\n",
    "\n",
    "df = df[FEATURES+TARGET]\n",
    "test_df = test_df[FEATURES]\n",
    "\n",
    "# Pre-process data\n",
    "## text to num mapping\n",
    "EMB_MAP = {'S':0, 'C':1, 'Q':2}\n",
    "SEX_MAP = {'male':0, 'female':1}\n",
    "\n",
    "## Process func.\n",
    "def text2num(df):\n",
    "    df['Embarked'] = df.Embarked.map(EMB_MAP)\n",
    "    df['Sex'] = df.Sex.map(SEX_MAP)\n",
    "    return df\n",
    "\n",
    "## Apply\n",
    "df = text2num(df)\n",
    "test_df = text2num(test_df)\n",
    "\n",
    "## Normalization\n",
    "from sklearn.preprocessing import StandardScaler\n",
    "pre = StandardScaler()\n",
    "\n",
    "df[FEATURES] = pre.fit_transform(df[FEATURES])\n",
    "test_df[FEATURES] = pre.transform(test_df[FEATURES]) # don't fit on test data\n",
    "\n",
    "\n",
    "# Display\n",
    "print(\"Train:\")\n",
    "display(df.head(2))\n",
    "\n",
    "print(\"Test:\")\n",
    "display(test_df.head(2))"
   ]
  },
  {
   "cell_type": "markdown",
   "id": "cb8a22f6",
   "metadata": {
    "papermill": {
     "duration": 0.006516,
     "end_time": "2023-06-08T15:21:02.591119",
     "exception": false,
     "start_time": "2023-06-08T15:21:02.584603",
     "status": "completed"
    },
    "tags": []
   },
   "source": [
    "# Step4 - Data Split"
   ]
  },
  {
   "cell_type": "code",
   "execution_count": 4,
   "id": "d30b7bc9",
   "metadata": {
    "execution": {
     "iopub.execute_input": "2023-06-08T15:21:02.607904Z",
     "iopub.status.busy": "2023-06-08T15:21:02.607054Z",
     "iopub.status.idle": "2023-06-08T15:21:02.695701Z",
     "shell.execute_reply": "2023-06-08T15:21:02.694332Z"
    },
    "papermill": {
     "duration": 0.10139,
     "end_time": "2023-06-08T15:21:02.699674",
     "exception": false,
     "start_time": "2023-06-08T15:21:02.598284",
     "status": "completed"
    },
    "tags": []
   },
   "outputs": [],
   "source": [
    "from sklearn.model_selection import train_test_split\n",
    "\n",
    "train_df, valid_df = train_test_split(df, test_size=0.2, random_state=42)"
   ]
  },
  {
   "cell_type": "markdown",
   "id": "172c962f",
   "metadata": {
    "papermill": {
     "duration": 0.006647,
     "end_time": "2023-06-08T15:21:02.713315",
     "exception": false,
     "start_time": "2023-06-08T15:21:02.706668",
     "status": "completed"
    },
    "tags": []
   },
   "source": [
    "Let's keep the list of the input features of the model. Notably, we don't want to train our model on the \"PassengerId\" and \"Ticket\" features."
   ]
  },
  {
   "cell_type": "markdown",
   "id": "71e81021",
   "metadata": {
    "papermill": {
     "duration": 0.006493,
     "end_time": "2023-06-08T15:21:02.726652",
     "exception": false,
     "start_time": "2023-06-08T15:21:02.720159",
     "status": "completed"
    },
    "tags": []
   },
   "source": [
    "# Step5 - Training"
   ]
  },
  {
   "cell_type": "code",
   "execution_count": 5,
   "id": "bcb6e6cb",
   "metadata": {
    "execution": {
     "iopub.execute_input": "2023-06-08T15:21:02.742441Z",
     "iopub.status.busy": "2023-06-08T15:21:02.742005Z",
     "iopub.status.idle": "2023-06-08T15:21:02.993665Z",
     "shell.execute_reply": "2023-06-08T15:21:02.992206Z"
    },
    "papermill": {
     "duration": 0.263734,
     "end_time": "2023-06-08T15:21:02.997175",
     "exception": false,
     "start_time": "2023-06-08T15:21:02.733441",
     "status": "completed"
    },
    "tags": []
   },
   "outputs": [
    {
     "name": "stdout",
     "output_type": "stream",
     "text": [
      "Accuracy: 0.8100558659217877\n"
     ]
    },
    {
     "name": "stderr",
     "output_type": "stream",
     "text": [
      "/opt/conda/lib/python3.7/site-packages/sklearn/neighbors/_classification.py:198: DataConversionWarning: A column-vector y was passed when a 1d array was expected. Please change the shape of y to (n_samples,), for example using ravel().\n",
      "  return self._fit(X, y)\n"
     ]
    }
   ],
   "source": [
    "from sklearn.linear_model import LogisticRegression\n",
    "from sklearn.neighbors import KNeighborsClassifier\n",
    "from sklearn.metrics import accuracy_score\n",
    "\n",
    "# Initialize the logistic regression model\n",
    "model = KNeighborsClassifier() #  LogisticRegression()\n",
    "\n",
    "# Train the model on the training data\n",
    "model.fit(train_df[FEATURES], train_df[TARGET])\n",
    "\n",
    "# Make predictions on the validation data\n",
    "y_pred = model.predict(valid_df[FEATURES])\n",
    "\n",
    "# Calculate the accuracy of the model\n",
    "accuracy = accuracy_score(valid_df[TARGET], y_pred)\n",
    "print(\"Accuracy:\", accuracy)"
   ]
  },
  {
   "cell_type": "markdown",
   "id": "17a68fe4",
   "metadata": {
    "papermill": {
     "duration": 0.006707,
     "end_time": "2023-06-08T15:21:03.010833",
     "exception": false,
     "start_time": "2023-06-08T15:21:03.004126",
     "status": "completed"
    },
    "tags": []
   },
   "source": [
    "# Step6 - Inference/Prediction"
   ]
  },
  {
   "cell_type": "code",
   "execution_count": 6,
   "id": "408179ed",
   "metadata": {
    "execution": {
     "iopub.execute_input": "2023-06-08T15:21:03.029054Z",
     "iopub.status.busy": "2023-06-08T15:21:03.027806Z",
     "iopub.status.idle": "2023-06-08T15:21:03.057635Z",
     "shell.execute_reply": "2023-06-08T15:21:03.055902Z"
    },
    "papermill": {
     "duration": 0.041544,
     "end_time": "2023-06-08T15:21:03.060780",
     "exception": false,
     "start_time": "2023-06-08T15:21:03.019236",
     "status": "completed"
    },
    "tags": []
   },
   "outputs": [
    {
     "name": "stdout",
     "output_type": "stream",
     "text": [
      "(array([0, 1]), array([256, 162]))\n"
     ]
    }
   ],
   "source": [
    "# Make predictions on the testing data\n",
    "test_pred = model.predict(test_df[FEATURES])\n",
    "\n",
    "print(np.unique(test_pred, return_counts=True))"
   ]
  },
  {
   "cell_type": "markdown",
   "id": "6efde240",
   "metadata": {
    "papermill": {
     "duration": 0.006799,
     "end_time": "2023-06-08T15:21:03.074976",
     "exception": false,
     "start_time": "2023-06-08T15:21:03.068177",
     "status": "completed"
    },
    "tags": []
   },
   "source": [
    "# Step7 - Submission"
   ]
  },
  {
   "cell_type": "code",
   "execution_count": 7,
   "id": "52f4370d",
   "metadata": {
    "execution": {
     "iopub.execute_input": "2023-06-08T15:21:03.091918Z",
     "iopub.status.busy": "2023-06-08T15:21:03.091192Z",
     "iopub.status.idle": "2023-06-08T15:21:03.494348Z",
     "shell.execute_reply": "2023-06-08T15:21:03.492704Z"
    },
    "papermill": {
     "duration": 0.415234,
     "end_time": "2023-06-08T15:21:03.497349",
     "exception": false,
     "start_time": "2023-06-08T15:21:03.082115",
     "status": "completed"
    },
    "tags": []
   },
   "outputs": [
    {
     "data": {
      "text/html": [
       "<div>\n",
       "<style scoped>\n",
       "    .dataframe tbody tr th:only-of-type {\n",
       "        vertical-align: middle;\n",
       "    }\n",
       "\n",
       "    .dataframe tbody tr th {\n",
       "        vertical-align: top;\n",
       "    }\n",
       "\n",
       "    .dataframe thead th {\n",
       "        text-align: right;\n",
       "    }\n",
       "</style>\n",
       "<table border=\"1\" class=\"dataframe\">\n",
       "  <thead>\n",
       "    <tr style=\"text-align: right;\">\n",
       "      <th></th>\n",
       "      <th>PassengerId</th>\n",
       "      <th>Survived</th>\n",
       "    </tr>\n",
       "  </thead>\n",
       "  <tbody>\n",
       "    <tr>\n",
       "      <th>0</th>\n",
       "      <td>892</td>\n",
       "      <td>0</td>\n",
       "    </tr>\n",
       "    <tr>\n",
       "      <th>1</th>\n",
       "      <td>893</td>\n",
       "      <td>0</td>\n",
       "    </tr>\n",
       "  </tbody>\n",
       "</table>\n",
       "</div>"
      ],
      "text/plain": [
       "   PassengerId  Survived\n",
       "0          892         0\n",
       "1          893         0"
      ]
     },
     "metadata": {},
     "output_type": "display_data"
    },
    {
     "data": {
      "image/png": "[encoded data removed]",
      "text/plain": [
       "<Figure size 640x480 with 1 Axes>"
      ]
     },
     "metadata": {},
     "output_type": "display_data"
    }
   ],
   "source": [
    "# Make submission\n",
    "sub_df = pd.read_csv('/kaggle/input/titanic/test.csv')\n",
    "sub_df = sub_df[['PassengerId']]\n",
    "sub_df['Survived'] = test_pred\n",
    "\n",
    "# Save submission\n",
    "sub_df.to_csv('submission.csv',index=False)\n",
    "\n",
    "# Display\n",
    "display(sub_df.head(2))\n",
    "sub_df.Survived.plot.hist();"
   ]
  },
  {
   "cell_type": "code",
   "execution_count": null,
   "id": "c058c6ab",
   "metadata": {
    "papermill": {
     "duration": 0.007281,
     "end_time": "2023-06-08T15:21:03.512625",
     "exception": false,
     "start_time": "2023-06-08T15:21:03.505344",
     "status": "completed"
    },
    "tags": []
   },
   "outputs": [],
   "source": []
  }
 ],
 "metadata": {
  "kernelspec": {
   "display_name": "Python 3",
   "language": "python",
   "name": "python3"
  },
  "language_info": {
   "codemirror_mode": {
    "name": "ipython",
    "version": 3
   },
   "file_extension": ".py",
   "mimetype": "text/x-python",
   "name": "python",
   "nbconvert_exporter": "python",
   "pygments_lexer": "ipython3",
   "version": "3.7.12"
  },
  "papermill": {
   "default_parameters": {},
   "duration": 17.982,
   "end_time": "2023-06-08T15:21:04.344687",
   "environment_variables": {},
   "exception": null,
   "input_path": "__notebook__.ipynb",
   "output_path": "__notebook__.ipynb",
   "parameters": {},
   "start_time": "2023-06-08T15:20:46.362687",
   "version": "2.4.0"
  }
 },
 "nbformat": 4,
 "nbformat_minor": 5
}
